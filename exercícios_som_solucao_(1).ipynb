{
  "nbformat": 4,
  "nbformat_minor": 0,
  "metadata": {
    "colab": {
      "provenance": [],
      "collapsed_sections": []
    },
    "kernelspec": {
      "name": "python3",
      "display_name": "Python 3"
    },
    "language_info": {
      "name": "python"
    }
  },
  "cells": [
    {
      "cell_type": "markdown",
      "source": [
        "# Exercício para sala de aula - Mapas auto-organizáveis\n",
        "\n",
        "### **Introdução e objetivos:** \n",
        "Este notebook é um material complementar a disciplina de Aprendizado de Máquinas 2. O objetivo é reforçar os conteúdos da aula de mapas auto-organizáveis e trazer alguns aspectos práticos da implementação destes modelos. Vamos cobrir as etapas de treinamento, avaliação e utilização do modelo.\n",
        "\n",
        "Como vimos em sala, os mapas auto-organizáveis podem ser utilizados para visualização de dados, redução de dimensionalidade e compressão (quantização). Neste exercício, vamos utilizar um mapa para visualização e redução de dimensionalidade de dados associados a liberdade econômica. O dataset contém \n",
        "\n",
        "### **Execução:** \n",
        "A execução deste notebook será feita através do Colab direto do Google Drive. Não existe impedimento para que este notebook seja executado em outro ambiente desde que os pacotes necessários estejam instalados corretamente.\n",
        "\n",
        "### **Exercícios**\n",
        "\n",
        "Exercício 1 - Dimensões dos nossos dados de entrada e saída e definição de hiperparâmetros\n",
        "\n",
        "Exercício 2 - Treinamento do modelo\n",
        "\n",
        "Exercício 3 - Utilização do modelo\n",
        "\n",
        "Exercício 4 - Visualização dos dados"
      ],
      "metadata": {
        "id": "PNU7MgB5MAR3"
      }
    },
    {
      "cell_type": "markdown",
      "source": [
        "### Pacotes necessários\n",
        "\n",
        "Para a execução deste exercício nós vamos precisar instalar o pacote Neupy e modificar a versão instalado do pacote xlrd"
      ],
      "metadata": {
        "id": "-O8fauDKM74A"
      }
    },
    {
      "cell_type": "code",
      "source": [
        "# Instalando o pacote\n",
        "# http://neupy.com/apidocs/neupy.algorithms.competitive.sofm.html\n",
        "!pip install neupy\n",
        "!pip install xlrd==1.2.0"
      ],
      "metadata": {
        "colab": {
          "base_uri": "https://localhost:8080/"
        },
        "id": "FyiFtRB3NHSJ",
        "outputId": "17b3bb5f-2805-4d6a-871b-d3542240ac47"
      },
      "execution_count": 47,
      "outputs": [
        {
          "output_type": "stream",
          "name": "stdout",
          "text": [
            "Looking in indexes: https://pypi.org/simple, https://us-python.pkg.dev/colab-wheels/public/simple/\n",
            "Requirement already satisfied: neupy in /usr/local/lib/python3.7/dist-packages (0.8.2)\n",
            "Requirement already satisfied: h5py in /usr/local/lib/python3.7/dist-packages (from neupy) (3.1.0)\n",
            "Requirement already satisfied: graphviz==0.5.1 in /usr/local/lib/python3.7/dist-packages (from neupy) (0.5.1)\n",
            "Requirement already satisfied: progressbar2==3.34.3 in /usr/local/lib/python3.7/dist-packages (from neupy) (3.34.3)\n",
            "Requirement already satisfied: matplotlib>=1.5.1 in /usr/local/lib/python3.7/dist-packages (from neupy) (3.2.2)\n",
            "Requirement already satisfied: tensorflow<1.14.0,>=1.10.1 in /usr/local/lib/python3.7/dist-packages (from neupy) (1.13.2)\n",
            "Requirement already satisfied: numpy>=1.13.3 in /usr/local/lib/python3.7/dist-packages (from neupy) (1.21.6)\n",
            "Requirement already satisfied: scipy>=0.19.0 in /usr/local/lib/python3.7/dist-packages (from neupy) (1.7.3)\n",
            "Requirement already satisfied: python-utils>=2.1.0 in /usr/local/lib/python3.7/dist-packages (from progressbar2==3.34.3->neupy) (3.3.3)\n",
            "Requirement already satisfied: pyparsing!=2.0.4,!=2.1.2,!=2.1.6,>=2.0.1 in /usr/local/lib/python3.7/dist-packages (from matplotlib>=1.5.1->neupy) (3.0.9)\n",
            "Requirement already satisfied: cycler>=0.10 in /usr/local/lib/python3.7/dist-packages (from matplotlib>=1.5.1->neupy) (0.11.0)\n",
            "Requirement already satisfied: kiwisolver>=1.0.1 in /usr/local/lib/python3.7/dist-packages (from matplotlib>=1.5.1->neupy) (1.4.4)\n",
            "Requirement already satisfied: python-dateutil>=2.1 in /usr/local/lib/python3.7/dist-packages (from matplotlib>=1.5.1->neupy) (2.8.2)\n",
            "Requirement already satisfied: typing-extensions in /usr/local/lib/python3.7/dist-packages (from kiwisolver>=1.0.1->matplotlib>=1.5.1->neupy) (4.1.1)\n",
            "Requirement already satisfied: six>=1.5 in /usr/local/lib/python3.7/dist-packages (from python-dateutil>=2.1->matplotlib>=1.5.1->neupy) (1.15.0)\n",
            "Requirement already satisfied: absl-py>=0.1.6 in /usr/local/lib/python3.7/dist-packages (from tensorflow<1.14.0,>=1.10.1->neupy) (1.2.0)\n",
            "Requirement already satisfied: keras-preprocessing>=1.0.5 in /usr/local/lib/python3.7/dist-packages (from tensorflow<1.14.0,>=1.10.1->neupy) (1.1.2)\n",
            "Requirement already satisfied: grpcio>=1.8.6 in /usr/local/lib/python3.7/dist-packages (from tensorflow<1.14.0,>=1.10.1->neupy) (1.48.1)\n",
            "Requirement already satisfied: keras-applications>=1.0.6 in /usr/local/lib/python3.7/dist-packages (from tensorflow<1.14.0,>=1.10.1->neupy) (1.0.8)\n",
            "Requirement already satisfied: astor>=0.6.0 in /usr/local/lib/python3.7/dist-packages (from tensorflow<1.14.0,>=1.10.1->neupy) (0.8.1)\n",
            "Requirement already satisfied: termcolor>=1.1.0 in /usr/local/lib/python3.7/dist-packages (from tensorflow<1.14.0,>=1.10.1->neupy) (1.1.0)\n",
            "Requirement already satisfied: wheel>=0.26 in /usr/local/lib/python3.7/dist-packages (from tensorflow<1.14.0,>=1.10.1->neupy) (0.37.1)\n",
            "Requirement already satisfied: tensorboard<1.14.0,>=1.13.0 in /usr/local/lib/python3.7/dist-packages (from tensorflow<1.14.0,>=1.10.1->neupy) (1.13.1)\n",
            "Requirement already satisfied: tensorflow-estimator<1.14.0rc0,>=1.13.0 in /usr/local/lib/python3.7/dist-packages (from tensorflow<1.14.0,>=1.10.1->neupy) (1.13.0)\n",
            "Requirement already satisfied: protobuf>=3.6.1 in /usr/local/lib/python3.7/dist-packages (from tensorflow<1.14.0,>=1.10.1->neupy) (3.17.3)\n",
            "Requirement already satisfied: gast>=0.2.0 in /usr/local/lib/python3.7/dist-packages (from tensorflow<1.14.0,>=1.10.1->neupy) (0.5.3)\n",
            "Requirement already satisfied: markdown>=2.6.8 in /usr/local/lib/python3.7/dist-packages (from tensorboard<1.14.0,>=1.13.0->tensorflow<1.14.0,>=1.10.1->neupy) (3.4.1)\n",
            "Requirement already satisfied: werkzeug>=0.11.15 in /usr/local/lib/python3.7/dist-packages (from tensorboard<1.14.0,>=1.13.0->tensorflow<1.14.0,>=1.10.1->neupy) (1.0.1)\n",
            "Requirement already satisfied: importlib-metadata>=4.4 in /usr/local/lib/python3.7/dist-packages (from markdown>=2.6.8->tensorboard<1.14.0,>=1.13.0->tensorflow<1.14.0,>=1.10.1->neupy) (4.12.0)\n",
            "Requirement already satisfied: zipp>=0.5 in /usr/local/lib/python3.7/dist-packages (from importlib-metadata>=4.4->markdown>=2.6.8->tensorboard<1.14.0,>=1.13.0->tensorflow<1.14.0,>=1.10.1->neupy) (3.8.1)\n",
            "Requirement already satisfied: mock>=2.0.0 in /usr/local/lib/python3.7/dist-packages (from tensorflow-estimator<1.14.0rc0,>=1.13.0->tensorflow<1.14.0,>=1.10.1->neupy) (4.0.3)\n",
            "Requirement already satisfied: cached-property in /usr/local/lib/python3.7/dist-packages (from h5py->neupy) (1.5.2)\n",
            "Looking in indexes: https://pypi.org/simple, https://us-python.pkg.dev/colab-wheels/public/simple/\n",
            "Requirement already satisfied: xlrd==1.2.0 in /usr/local/lib/python3.7/dist-packages (1.2.0)\n"
          ]
        }
      ]
    },
    {
      "cell_type": "markdown",
      "source": [
        "### Pacotes necessários\n",
        "\n",
        "Estes são os pacotes necessários. A documentação do algoritmo de mapas auto-organizáveis do Neupy se encontra em: http://neupy.com/apidocs/neupy.algorithms.competitive.sofm.html"
      ],
      "metadata": {
        "id": "v3JWZyhHNNpn"
      }
    },
    {
      "cell_type": "code",
      "source": [
        "# Importando os pacotes necessários\n",
        "import requests\n",
        "import pandas as pd\n",
        "import seaborn as sns\n",
        "import matplotlib.pyplot as plt\n",
        "from neupy import algorithms, utils\n",
        "from sklearn.datasets import fetch_california_housing\n",
        "pd.set_option('display.float_format', lambda x: '%.3f' % x)\n"
      ],
      "metadata": {
        "id": "83hxTW8qNKsA"
      },
      "execution_count": 48,
      "outputs": []
    },
    {
      "cell_type": "markdown",
      "source": [
        "Aluno : Caio Henrique Gonçalves Marques\n",
        "\n",
        "utilizei o dataset de precificação de imoveis da california,\n",
        "\n",
        "originalmente é um dataset de regressão, pórem a variável resposta foi categorizada em 10 grupos de espaçamento igual usando a função qcut do pandas\n",
        "\n",
        "No final da atividade, pode-se ver que os grupos nao mantem a sua ordenação"
      ],
      "metadata": {
        "id": "RgfmgGOyto4s"
      }
    },
    {
      "cell_type": "code",
      "source": [
        "# Importando Dataset do \n",
        "\n",
        "bunch = fetch_california_housing(as_frame = True)\n",
        "dir(bunch)"
      ],
      "metadata": {
        "colab": {
          "base_uri": "https://localhost:8080/"
        },
        "id": "pbObicQXn9YB",
        "outputId": "51b87721-8345-4a8a-dbe0-5e28691a7327"
      },
      "execution_count": 49,
      "outputs": [
        {
          "output_type": "execute_result",
          "data": {
            "text/plain": [
              "['DESCR', 'data', 'feature_names', 'frame', 'target', 'target_names']"
            ]
          },
          "metadata": {},
          "execution_count": 49
        }
      ]
    },
    {
      "cell_type": "code",
      "source": [
        "X = bunch.data\n",
        "Y = bunch.target"
      ],
      "metadata": {
        "id": "lQLy6mf6od3O"
      },
      "execution_count": 50,
      "outputs": []
    },
    {
      "cell_type": "code",
      "source": [
        "Y"
      ],
      "metadata": {
        "colab": {
          "base_uri": "https://localhost:8080/"
        },
        "id": "dD4BKUPLp2AO",
        "outputId": "ddea4cda-5710-42cb-b865-0aec98d08b46"
      },
      "execution_count": 51,
      "outputs": [
        {
          "output_type": "execute_result",
          "data": {
            "text/plain": [
              "0       4.526\n",
              "1       3.585\n",
              "2       3.521\n",
              "3       3.413\n",
              "4       3.422\n",
              "         ... \n",
              "20635   0.781\n",
              "20636   0.771\n",
              "20637   0.923\n",
              "20638   0.847\n",
              "20639   0.894\n",
              "Name: MedHouseVal, Length: 20640, dtype: float64"
            ]
          },
          "metadata": {},
          "execution_count": 51
        }
      ]
    },
    {
      "cell_type": "code",
      "source": [
        "X"
      ],
      "metadata": {
        "colab": {
          "base_uri": "https://localhost:8080/",
          "height": 424
        },
        "id": "Cezj3ahapJw-",
        "outputId": "3101db3a-84bd-47e6-fde7-a3d09367828d"
      },
      "execution_count": 52,
      "outputs": [
        {
          "output_type": "execute_result",
          "data": {
            "text/plain": [
              "       MedInc  HouseAge  AveRooms  AveBedrms  Population  AveOccup  Latitude  \\\n",
              "0       8.325    41.000     6.984      1.024     322.000     2.556    37.880   \n",
              "1       8.301    21.000     6.238      0.972    2401.000     2.110    37.860   \n",
              "2       7.257    52.000     8.288      1.073     496.000     2.802    37.850   \n",
              "3       5.643    52.000     5.817      1.073     558.000     2.548    37.850   \n",
              "4       3.846    52.000     6.282      1.081     565.000     2.181    37.850   \n",
              "...       ...       ...       ...        ...         ...       ...       ...   \n",
              "20635   1.560    25.000     5.045      1.133     845.000     2.561    39.480   \n",
              "20636   2.557    18.000     6.114      1.316     356.000     3.123    39.490   \n",
              "20637   1.700    17.000     5.206      1.120    1007.000     2.326    39.430   \n",
              "20638   1.867    18.000     5.330      1.172     741.000     2.123    39.430   \n",
              "20639   2.389    16.000     5.255      1.162    1387.000     2.617    39.370   \n",
              "\n",
              "       Longitude  \n",
              "0       -122.230  \n",
              "1       -122.220  \n",
              "2       -122.240  \n",
              "3       -122.250  \n",
              "4       -122.250  \n",
              "...          ...  \n",
              "20635   -121.090  \n",
              "20636   -121.210  \n",
              "20637   -121.220  \n",
              "20638   -121.320  \n",
              "20639   -121.240  \n",
              "\n",
              "[20640 rows x 8 columns]"
            ],
            "text/html": [
              "\n",
              "  <div id=\"df-8fef2cce-82e7-4232-8f64-4016330b8c14\">\n",
              "    <div class=\"colab-df-container\">\n",
              "      <div>\n",
              "<style scoped>\n",
              "    .dataframe tbody tr th:only-of-type {\n",
              "        vertical-align: middle;\n",
              "    }\n",
              "\n",
              "    .dataframe tbody tr th {\n",
              "        vertical-align: top;\n",
              "    }\n",
              "\n",
              "    .dataframe thead th {\n",
              "        text-align: right;\n",
              "    }\n",
              "</style>\n",
              "<table border=\"1\" class=\"dataframe\">\n",
              "  <thead>\n",
              "    <tr style=\"text-align: right;\">\n",
              "      <th></th>\n",
              "      <th>MedInc</th>\n",
              "      <th>HouseAge</th>\n",
              "      <th>AveRooms</th>\n",
              "      <th>AveBedrms</th>\n",
              "      <th>Population</th>\n",
              "      <th>AveOccup</th>\n",
              "      <th>Latitude</th>\n",
              "      <th>Longitude</th>\n",
              "    </tr>\n",
              "  </thead>\n",
              "  <tbody>\n",
              "    <tr>\n",
              "      <th>0</th>\n",
              "      <td>8.325</td>\n",
              "      <td>41.000</td>\n",
              "      <td>6.984</td>\n",
              "      <td>1.024</td>\n",
              "      <td>322.000</td>\n",
              "      <td>2.556</td>\n",
              "      <td>37.880</td>\n",
              "      <td>-122.230</td>\n",
              "    </tr>\n",
              "    <tr>\n",
              "      <th>1</th>\n",
              "      <td>8.301</td>\n",
              "      <td>21.000</td>\n",
              "      <td>6.238</td>\n",
              "      <td>0.972</td>\n",
              "      <td>2401.000</td>\n",
              "      <td>2.110</td>\n",
              "      <td>37.860</td>\n",
              "      <td>-122.220</td>\n",
              "    </tr>\n",
              "    <tr>\n",
              "      <th>2</th>\n",
              "      <td>7.257</td>\n",
              "      <td>52.000</td>\n",
              "      <td>8.288</td>\n",
              "      <td>1.073</td>\n",
              "      <td>496.000</td>\n",
              "      <td>2.802</td>\n",
              "      <td>37.850</td>\n",
              "      <td>-122.240</td>\n",
              "    </tr>\n",
              "    <tr>\n",
              "      <th>3</th>\n",
              "      <td>5.643</td>\n",
              "      <td>52.000</td>\n",
              "      <td>5.817</td>\n",
              "      <td>1.073</td>\n",
              "      <td>558.000</td>\n",
              "      <td>2.548</td>\n",
              "      <td>37.850</td>\n",
              "      <td>-122.250</td>\n",
              "    </tr>\n",
              "    <tr>\n",
              "      <th>4</th>\n",
              "      <td>3.846</td>\n",
              "      <td>52.000</td>\n",
              "      <td>6.282</td>\n",
              "      <td>1.081</td>\n",
              "      <td>565.000</td>\n",
              "      <td>2.181</td>\n",
              "      <td>37.850</td>\n",
              "      <td>-122.250</td>\n",
              "    </tr>\n",
              "    <tr>\n",
              "      <th>...</th>\n",
              "      <td>...</td>\n",
              "      <td>...</td>\n",
              "      <td>...</td>\n",
              "      <td>...</td>\n",
              "      <td>...</td>\n",
              "      <td>...</td>\n",
              "      <td>...</td>\n",
              "      <td>...</td>\n",
              "    </tr>\n",
              "    <tr>\n",
              "      <th>20635</th>\n",
              "      <td>1.560</td>\n",
              "      <td>25.000</td>\n",
              "      <td>5.045</td>\n",
              "      <td>1.133</td>\n",
              "      <td>845.000</td>\n",
              "      <td>2.561</td>\n",
              "      <td>39.480</td>\n",
              "      <td>-121.090</td>\n",
              "    </tr>\n",
              "    <tr>\n",
              "      <th>20636</th>\n",
              "      <td>2.557</td>\n",
              "      <td>18.000</td>\n",
              "      <td>6.114</td>\n",
              "      <td>1.316</td>\n",
              "      <td>356.000</td>\n",
              "      <td>3.123</td>\n",
              "      <td>39.490</td>\n",
              "      <td>-121.210</td>\n",
              "    </tr>\n",
              "    <tr>\n",
              "      <th>20637</th>\n",
              "      <td>1.700</td>\n",
              "      <td>17.000</td>\n",
              "      <td>5.206</td>\n",
              "      <td>1.120</td>\n",
              "      <td>1007.000</td>\n",
              "      <td>2.326</td>\n",
              "      <td>39.430</td>\n",
              "      <td>-121.220</td>\n",
              "    </tr>\n",
              "    <tr>\n",
              "      <th>20638</th>\n",
              "      <td>1.867</td>\n",
              "      <td>18.000</td>\n",
              "      <td>5.330</td>\n",
              "      <td>1.172</td>\n",
              "      <td>741.000</td>\n",
              "      <td>2.123</td>\n",
              "      <td>39.430</td>\n",
              "      <td>-121.320</td>\n",
              "    </tr>\n",
              "    <tr>\n",
              "      <th>20639</th>\n",
              "      <td>2.389</td>\n",
              "      <td>16.000</td>\n",
              "      <td>5.255</td>\n",
              "      <td>1.162</td>\n",
              "      <td>1387.000</td>\n",
              "      <td>2.617</td>\n",
              "      <td>39.370</td>\n",
              "      <td>-121.240</td>\n",
              "    </tr>\n",
              "  </tbody>\n",
              "</table>\n",
              "<p>20640 rows × 8 columns</p>\n",
              "</div>\n",
              "      <button class=\"colab-df-convert\" onclick=\"convertToInteractive('df-8fef2cce-82e7-4232-8f64-4016330b8c14')\"\n",
              "              title=\"Convert this dataframe to an interactive table.\"\n",
              "              style=\"display:none;\">\n",
              "        \n",
              "  <svg xmlns=\"http://www.w3.org/2000/svg\" height=\"24px\"viewBox=\"0 0 24 24\"\n",
              "       width=\"24px\">\n",
              "    <path d=\"M0 0h24v24H0V0z\" fill=\"none\"/>\n",
              "    <path d=\"M18.56 5.44l.94 2.06.94-2.06 2.06-.94-2.06-.94-.94-2.06-.94 2.06-2.06.94zm-11 1L8.5 8.5l.94-2.06 2.06-.94-2.06-.94L8.5 2.5l-.94 2.06-2.06.94zm10 10l.94 2.06.94-2.06 2.06-.94-2.06-.94-.94-2.06-.94 2.06-2.06.94z\"/><path d=\"M17.41 7.96l-1.37-1.37c-.4-.4-.92-.59-1.43-.59-.52 0-1.04.2-1.43.59L10.3 9.45l-7.72 7.72c-.78.78-.78 2.05 0 2.83L4 21.41c.39.39.9.59 1.41.59.51 0 1.02-.2 1.41-.59l7.78-7.78 2.81-2.81c.8-.78.8-2.07 0-2.86zM5.41 20L4 18.59l7.72-7.72 1.47 1.35L5.41 20z\"/>\n",
              "  </svg>\n",
              "      </button>\n",
              "      \n",
              "  <style>\n",
              "    .colab-df-container {\n",
              "      display:flex;\n",
              "      flex-wrap:wrap;\n",
              "      gap: 12px;\n",
              "    }\n",
              "\n",
              "    .colab-df-convert {\n",
              "      background-color: #E8F0FE;\n",
              "      border: none;\n",
              "      border-radius: 50%;\n",
              "      cursor: pointer;\n",
              "      display: none;\n",
              "      fill: #1967D2;\n",
              "      height: 32px;\n",
              "      padding: 0 0 0 0;\n",
              "      width: 32px;\n",
              "    }\n",
              "\n",
              "    .colab-df-convert:hover {\n",
              "      background-color: #E2EBFA;\n",
              "      box-shadow: 0px 1px 2px rgba(60, 64, 67, 0.3), 0px 1px 3px 1px rgba(60, 64, 67, 0.15);\n",
              "      fill: #174EA6;\n",
              "    }\n",
              "\n",
              "    [theme=dark] .colab-df-convert {\n",
              "      background-color: #3B4455;\n",
              "      fill: #D2E3FC;\n",
              "    }\n",
              "\n",
              "    [theme=dark] .colab-df-convert:hover {\n",
              "      background-color: #434B5C;\n",
              "      box-shadow: 0px 1px 3px 1px rgba(0, 0, 0, 0.15);\n",
              "      filter: drop-shadow(0px 1px 2px rgba(0, 0, 0, 0.3));\n",
              "      fill: #FFFFFF;\n",
              "    }\n",
              "  </style>\n",
              "\n",
              "      <script>\n",
              "        const buttonEl =\n",
              "          document.querySelector('#df-8fef2cce-82e7-4232-8f64-4016330b8c14 button.colab-df-convert');\n",
              "        buttonEl.style.display =\n",
              "          google.colab.kernel.accessAllowed ? 'block' : 'none';\n",
              "\n",
              "        async function convertToInteractive(key) {\n",
              "          const element = document.querySelector('#df-8fef2cce-82e7-4232-8f64-4016330b8c14');\n",
              "          const dataTable =\n",
              "            await google.colab.kernel.invokeFunction('convertToInteractive',\n",
              "                                                     [key], {});\n",
              "          if (!dataTable) return;\n",
              "\n",
              "          const docLinkHtml = 'Like what you see? Visit the ' +\n",
              "            '<a target=\"_blank\" href=https://colab.research.google.com/notebooks/data_table.ipynb>data table notebook</a>'\n",
              "            + ' to learn more about interactive tables.';\n",
              "          element.innerHTML = '';\n",
              "          dataTable['output_type'] = 'display_data';\n",
              "          await google.colab.output.renderOutput(dataTable, element);\n",
              "          const docLink = document.createElement('div');\n",
              "          docLink.innerHTML = docLinkHtml;\n",
              "          element.appendChild(docLink);\n",
              "        }\n",
              "      </script>\n",
              "    </div>\n",
              "  </div>\n",
              "  "
            ]
          },
          "metadata": {},
          "execution_count": 52
        }
      ]
    },
    {
      "cell_type": "markdown",
      "source": [
        "##### Exercício 1 - Hiperparâmetros\n",
        "\n",
        "Vamos verificar quais as dimensões dos nossos dados de entrada e saída? Quais os hiperparâmetros devemos definir para o treinamento deste modelo? \n",
        "\n",
        "Recomenda-se consultar a documentação do SOM no neupy para entender o que cada parâmetro significa: http://neupy.com/apidocs/neupy.algorithms.competitive.sofm.html "
      ],
      "metadata": {
        "id": "pbie4LmMrRtw"
      }
    },
    {
      "cell_type": "code",
      "source": [
        "# Instanciando o algoritmo\n",
        "grid_width = 4\n",
        "grid_height = 2\n",
        "\n",
        "sofm = algorithms.SOFM(\n",
        "    n_inputs=8,\n",
        "    learning_radius=0,\n",
        "    step=0.1,\n",
        "    shuffle_data=False,\n",
        "    weight='init_pca',\n",
        "    grid_type='rect',\n",
        "    features_grid=(grid_width, grid_height)\n",
        "    )"
      ],
      "metadata": {
        "id": "KQJO9RO1ny1x"
      },
      "execution_count": 63,
      "outputs": []
    },
    {
      "cell_type": "markdown",
      "source": [
        "#### Exercício 2\n",
        "\n",
        "O objetivo deste exercício é verificar como o número de iterações influência no treinamento do modelo. Além disso, é interessante verificar como os hiperparâmetros podem ser modificados e o impacto deles no resultado da medida de loss.\n",
        "\n",
        "Faça outros experimentos com o número de neurônios diferente. E verifique como fica o loss nestes casos. Lembre-se que quanto maior o número de neurônios, maior a capacidade de representação."
      ],
      "metadata": {
        "id": "OKJtmhh-rlw6"
      }
    },
    {
      "cell_type": "code",
      "source": [
        "# Executando o treinamento\n",
        "sofm.train(X.values, epochs=100)"
      ],
      "metadata": {
        "colab": {
          "base_uri": "https://localhost:8080/"
        },
        "id": "wcYDuin2oEqg",
        "outputId": "5f0d95f2-2297-486c-b310-48053cf3892f"
      },
      "execution_count": 64,
      "outputs": [
        {
          "output_type": "stream",
          "name": "stderr",
          "text": []
        }
      ]
    },
    {
      "cell_type": "markdown",
      "source": [
        "### Avaliação do modelo"
      ],
      "metadata": {
        "id": "w_4McRqXqg8f"
      }
    },
    {
      "cell_type": "code",
      "source": [
        "# Verificando o loss de treinamento\n",
        "sofm.plot_errors()"
      ],
      "metadata": {
        "colab": {
          "base_uri": "https://localhost:8080/",
          "height": 497
        },
        "id": "3DXKrWD7oE8g",
        "outputId": "4a6fd7e3-7a22-4fba-d5d5-79129a6390e8"
      },
      "execution_count": 65,
      "outputs": [
        {
          "output_type": "display_data",
          "data": {
            "text/plain": [
              "<Figure size 864x576 with 1 Axes>"
            ],
            "image/png": "[encoded data removed]"
          },
          "metadata": {
            "needs_background": "light"
          }
        }
      ]
    },
    {
      "cell_type": "code",
      "source": [
        "# Verificando os pesos dos primeiros neurônios\n",
        "sofm.weight.T[0:2]"
      ],
      "metadata": {
        "colab": {
          "base_uri": "https://localhost:8080/"
        },
        "id": "WtU6cnD-qkO1",
        "outputId": "c0c7b941-8b18-4aaf-b237-a6c7716c34da"
      },
      "execution_count": 66,
      "outputs": [
        {
          "output_type": "execute_result",
          "data": {
            "text/plain": [
              "array([[ 4.34795336e+00,  1.46781199e+01,  5.54797669e+00,\n",
              "         1.05338417e+00,  6.56342982e+03,  3.34618183e+01,\n",
              "         3.62805703e+01, -1.20307699e+02],\n",
              "       [ 2.44436147e+00,  1.25403731e+01,  5.31624428e+00,\n",
              "         1.03442210e+00,  3.22197659e+04,  6.12692982e+00,\n",
              "         3.49507127e+01, -1.19546174e+02]])"
            ]
          },
          "metadata": {},
          "execution_count": 66
        }
      ]
    },
    {
      "cell_type": "markdown",
      "source": [
        "#### Exercício 3 - Utilização do modelo\n",
        "\n",
        "Vamos visualizar em qual neurônio cada país foi mapeado. A função predict nos retorna o número do neurônio associado a um determinado vetor (ou padrão de entrada). Com isso, conseguimos verificar quais países estão associados à um determinado neurônio.\n",
        "\n",
        "Podemos analisar também quão bem um determinado neurônio foi representado, comparando o vetor de pesos do neurônio e o padrão de entrada da rede.\n",
        "\n",
        "Faça o predict para um subconjunto de países e verifique os neurônios aos quais ele foi mapeado."
      ],
      "metadata": {
        "id": "GEp-FQPQsFKj"
      }
    },
    {
      "cell_type": "markdown",
      "source": [
        "Quão bem o Brasil foi representado? Verifique os dados de entrada do Brasil e os pesos associados ao neurônio correspondente"
      ],
      "metadata": {
        "id": "JatElG7Gtld6"
      }
    },
    {
      "cell_type": "markdown",
      "source": [
        "#### Exercício 4 - Visualização dos dados\n",
        "\n",
        "A visualização dos dados pode ser feita em um grid bidimensional, independente das dimensões dos dados de entrada. Neste caso, os dados de entrada para treinamento do modelo tem 12 dimensões (12 features selecionadas no dataset). "
      ],
      "metadata": {
        "id": "F7KrlmrIsPrW"
      }
    },
    {
      "cell_type": "code",
      "source": [
        "# Criando o posicionamento dos neurônios no grid\n",
        "neuron_number = 0\n",
        "grid_map = []\n",
        "\n",
        "for y in range(grid_height):\n",
        "  for x in range(grid_width):\n",
        "    grid_map.append([neuron_number, x, y])\n",
        "    neuron_number += 1\n",
        "\n",
        "df_neuron = pd.DataFrame(grid_map, columns=['Neuron','x','y'])\n"
      ],
      "metadata": {
        "id": "AhH6vQhjublt"
      },
      "execution_count": 67,
      "outputs": []
    },
    {
      "cell_type": "code",
      "source": [
        "# Fazendo a predição para todo o dataset\n",
        "result_all = sofm.predict(X).argmax(axis=1)\n",
        "\n",
        "# Unindo os dados dos neurônios aos dados categóricos\n",
        "df_result = X.iloc[:,:5]\n",
        "df_result['Neuron'] = pd.DataFrame(result_all)\n",
        "df_result = pd.merge(df_result, df_neuron, on='Neuron', how='left')\n",
        "\n",
        "# Inserindo as categorias\n",
        "df_result['Classification'] = pd.qcut(Y,q = 10)"
      ],
      "metadata": {
        "id": "0YND0U_1t9b3",
        "colab": {
          "base_uri": "https://localhost:8080/"
        },
        "outputId": "82958607-5b6c-4490-ca06-323016a35583"
      },
      "execution_count": 69,
      "outputs": [
        {
          "output_type": "stream",
          "name": "stderr",
          "text": [
            "/usr/local/lib/python3.7/dist-packages/ipykernel_launcher.py:6: SettingWithCopyWarning: \n",
            "A value is trying to be set on a copy of a slice from a DataFrame.\n",
            "Try using .loc[row_indexer,col_indexer] = value instead\n",
            "\n",
            "See the caveats in the documentation: https://pandas.pydata.org/pandas-docs/stable/user_guide/indexing.html#returning-a-view-versus-a-copy\n",
            "  \n"
          ]
        }
      ]
    },
    {
      "cell_type": "markdown",
      "source": [
        "Quais países foram atribuídos à um mesmo neurônio?"
      ],
      "metadata": {
        "id": "WLjr0dj0woLD"
      }
    },
    {
      "cell_type": "code",
      "source": [
        "fig, ax = plt.subplots(figsize=(10, 10))\n",
        "\n",
        "p1 = sns.scatterplot(x=df_result['x'],\n",
        "                y=df_result['y'], \n",
        "                s=600,\n",
        "                hue=df_result['Classification'])\n",
        "\n",
        "# Plotando o nome de alguns países\n",
        "for item in countries:\n",
        "  country_print = df_result.iloc[:,:].values.tolist()\n",
        "  p1.text(country_print[0][6],\n",
        "          country_print[0][7],\n",
        "          item,\n",
        "          va='top',\n",
        "          ha='center',\n",
        "          size='smaller')\n",
        "  \n",
        "# Plotando o número do neurônio\n",
        "neuron_group = df_result.groupby(['Neuron', 'x', 'y']).size().reset_index()\n",
        "for item, val in enumerate(neuron_group['Neuron']):\n",
        "  p1.text(neuron_group['x'][item],\n",
        "          neuron_group['y'][item],\n",
        "          neuron_group['Neuron'][item],\n",
        "          va='bottom',\n",
        "          ha='center',\n",
        "          size='smaller')\n",
        "  \n",
        "  plt.title('Grid', size=14);"
      ],
      "metadata": {
        "colab": {
          "base_uri": "https://localhost:8080/",
          "height": 623
        },
        "id": "V7DPjVaAsQfQ",
        "outputId": "9e3968dc-c040-402e-9e3f-ea8f29dfb62e"
      },
      "execution_count": 70,
      "outputs": [
        {
          "output_type": "display_data",
          "data": {
            "text/plain": [
              "<Figure size 720x720 with 1 Axes>"
            ],
            "image/png": "[encoded data removed]"
          },
          "metadata": {
            "needs_background": "light"
          }
        }
      ]
    },
    {
      "cell_type": "code",
      "source": [],
      "metadata": {
        "id": "eo2lKRMht4dE"
      },
      "execution_count": null,
      "outputs": []
    }
  ]
}