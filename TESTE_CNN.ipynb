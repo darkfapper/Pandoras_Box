{
  "cells": [
    {
      "cell_type": "markdown",
      "metadata": {
        "id": "view-in-github",
        "colab_type": "text"
      },
      "source": [
        "<a href=\"https://colab.research.google.com/github/darkfapper/Pandoras_Box/blob/main/TESTE_CNN.ipynb\" target=\"_parent\"><img src=\"https://colab.research.google.com/assets/colab-badge.svg\" alt=\"Open In Colab\"/></a>"
      ]
    },
    {
      "cell_type": "code",
      "execution_count": null,
      "metadata": {
        "id": "9e9XvDclX2oH"
      },
      "outputs": [],
      "source": [
        "import tensorflow as tf\n",
        "import tensorflow_probability as tfp"
      ]
    },
    {
      "cell_type": "code",
      "execution_count": null,
      "metadata": {
        "colab": {
          "base_uri": "https://localhost:8080/"
        },
        "id": "Hx3PQ4R_X5J3",
        "outputId": "9110cf8b-eb95-47bf-a416-768b440698d7"
      },
      "outputs": [
        {
          "name": "stdout",
          "output_type": "stream",
          "text": [
            "Downloading data from https://storage.googleapis.com/tensorflow/tf-keras-datasets/mnist.npz\n",
            "11490434/11490434 [==============================] - 0s 0us/step\n"
          ]
        }
      ],
      "source": [
        "# Load and preprocess the MNIST dataset\n",
        "(x_train, y_train), (x_test, y_test) = tf.keras.datasets.mnist.load_data()\n",
        "x_train = x_train.reshape(-1, 784) / 255.0\n",
        "x_test = x_test.reshape(-1, 784) / 255.0\n",
        "y_train_one_hot = tf.keras.utils.to_categorical(y_train)\n",
        "y_test_one_hot = tf.keras.utils.to_categorical(y_test)"
      ]
    },
    {
      "cell_type": "code",
      "execution_count": null,
      "metadata": {
        "colab": {
          "background_save": true,
          "base_uri": "https://localhost:8080/"
        },
        "id": "f1uup6CnX5tR",
        "outputId": "43e66f01-cc53-45f4-9518-abe88308cbab"
      },
      "outputs": [
        {
          "name": "stdout",
          "output_type": "stream",
          "text": [
            "Epoch 1/50\n"
          ]
        },
        {
          "name": "stderr",
          "output_type": "stream",
          "text": [
            "/usr/local/lib/python3.10/dist-packages/tensorflow_probability/python/layers/util.py:98: UserWarning: `layer.add_variable` is deprecated and will be removed in a future version. Please use the `layer.add_weight()` method instead.\n",
            "  loc = add_variable_fn(\n",
            "/usr/local/lib/python3.10/dist-packages/tensorflow_probability/python/layers/util.py:108: UserWarning: `layer.add_variable` is deprecated and will be removed in a future version. Please use the `layer.add_weight()` method instead.\n",
            "  untransformed_scale = add_variable_fn(\n"
          ]
        },
        {
          "name": "stdout",
          "output_type": "stream",
          "text": [
            "1500/1500 [==============================] - ETA: 0s - loss: 31.8177 - accuracy: 0.8342"
          ]
        }
      ],
      "source": [
        "import tensorflow as tf\n",
        "import tensorflow_probability as tfp\n",
        "\n",
        "# Usage example\n",
        "input_size = 784\n",
        "fc2_size = 256\n",
        "fc3_size = 128\n",
        "fc4_size = 64\n",
        "output_size = 10\n",
        "\n",
        "neg_log_likelihood = lambda y, p_y: -p_y.log_prob(y)\n",
        "tfd = tfp.distributions\n",
        "tfpl = tfp.layers\n",
        "\n",
        "## Testar usando 1\n",
        "NUM_TRAIN_EXAMPLES =  x_train.shape[0] #1\n",
        "kl_divergence_function = (lambda q, p, _: tfd.kl_divergence(q, p) / tf.cast(NUM_TRAIN_EXAMPLES, dtype=tf.float32))\n",
        "\n",
        "class BayesianNetwork(tf.keras.Model):\n",
        "    def __init__(self, input_size, fc2_size, fc3_size, fc4_size, output_size):\n",
        "        super(BayesianNetwork, self).__init__()\n",
        "        self.fc1 = tfp.layers.DenseFlipout(input_size, activation='relu',kernel_divergence_fn=kl_divergence_function,bias_divergence_fn=kl_divergence_function)\n",
        "        self.fc2 = tfp.layers.DenseFlipout(fc2_size, activation='relu',kernel_divergence_fn=kl_divergence_function,bias_divergence_fn=kl_divergence_function)\n",
        "        self.fc3 = tfp.layers.DenseFlipout(fc3_size, activation='relu',kernel_divergence_fn=kl_divergence_function,bias_divergence_fn=kl_divergence_function)\n",
        "        self.fc4 = tfp.layers.DenseFlipout(fc4_size, activation='relu',kernel_divergence_fn=kl_divergence_function,bias_divergence_fn=kl_divergence_function)\n",
        "        self.fc5 = tfp.layers.DenseFlipout(tfp.layers.OneHotCategorical.params_size(output_size),activation=None,kernel_divergence_fn=kl_divergence_function,bias_divergence_fn=kl_divergence_function)\n",
        "        self.fc6 = tfp.layers.OneHotCategorical(output_size)\n",
        "\n",
        "    def call(self, x):\n",
        "        x = self.fc1(x)\n",
        "        x = self.fc2(x)\n",
        "        x = self.fc3(x)\n",
        "        x = self.fc4(x)\n",
        "        x = self.fc5(x)\n",
        "        x = self.fc6(x)\n",
        "        return x\n",
        "\n",
        "\n",
        "\n",
        "\n",
        "\n",
        "model = BayesianNetwork(input_size, fc2_size, fc3_size, fc4_size, output_size)\n",
        "\n",
        "\n",
        "# Compile the model\n",
        "model.compile(optimizer=tf.keras.optimizers.Adam(learning_rate=0.001),\n",
        "              loss=neg_log_likelihood,\n",
        "              metrics=['accuracy'])\n",
        "\n",
        "# Train the model\n",
        "model.fit(x_train, y_train_one_hot, epochs=50, validation_split=0.2)\n",
        "\n",
        "# Evaluate the model\n",
        "test_loss, test_acc = model.evaluate(x_test, y_test_one_hot)\n",
        "print('Test accuracy:', test_acc)\n"
      ]
    },
    {
      "cell_type": "code",
      "execution_count": null,
      "metadata": {
        "id": "4eDI4NnyYFXU"
      },
      "outputs": [],
      "source": []
    }
  ],
  "metadata": {
    "colab": {
      "provenance": [],
      "authorship_tag": "ABX9TyNhWpEvvHDGsMC5gpoUw3zk",
      "include_colab_link": true
    },
    "kernelspec": {
      "display_name": "Python 3",
      "name": "python3"
    },
    "language_info": {
      "name": "python"
    }
  },
  "nbformat": 4,
  "nbformat_minor": 0
}