{
 "cells": [
  {
   "cell_type": "code",
   "execution_count": 23,
   "metadata": {},
   "outputs": [],
   "source": [
    "import numpy as np\n",
    "import pandas as pd "
   ]
  },
  {
   "cell_type": "markdown",
   "metadata": {},
   "source": [
    "#exer 18 cap 6 \n",
    "\n",
    "1) alfa: é relevante,probabilidade base, \n",
    "\n",
    "beta: relevante e positivo,logo meninos tem 33% maior probabilidade de preferir coca\n",
    "\n",
    "gama: relevante e negativo. durante os 5 primeiros anos, a chance de preferir coca aumetna com a idade,depois começa a diminuir em 3% por ano\n",
    "\n"
   ]
  },
  {
   "cell_type": "code",
   "execution_count": 33,
   "metadata": {},
   "outputs": [
    {
     "name": "stdout",
     "output_type": "stream",
     "text": [
      "Beta com 95% de confiança vai de 0.134 até 0.526 \n",
      "gama com 95% de confiança vai de -0.0398 até -0.0202 \n"
     ]
    }
   ],
   "source": [
    "#reposta da 3\n",
    "\n",
    "beta_cima = 0.33 + 1.96*0.1\n",
    "beta_baixo = 0.33 - 1.96*0.1\n",
    "gama_cima = -0.03 + 1.96*0.005\n",
    "gama_baixo = -0.03 - 1.96*0.005\n",
    "print(f\"Beta com 95% de confiança vai de {beta_baixo} até {beta_cima} \")\n",
    "print(f\"gama com 95% de confiança vai de {gama_baixo} até {gama_cima} \")\n"
   ]
  },
  {
   "cell_type": "code",
   "execution_count": 20,
   "metadata": {},
   "outputs": [
    {
     "name": "stdout",
     "output_type": "stream",
     "text": [
      "0.7222222222222222\n"
     ]
    }
   ],
   "source": [
    "#resposta da 2 \n",
    "\n",
    "prob_15 = 0.69 -0.03*(15-5)\n",
    "prob_10 = 0.69 -0.03*(10-5)\n",
    "print(prob_15/prob_10)"
   ]
  },
  {
   "cell_type": "code",
   "execution_count": 15,
   "metadata": {},
   "outputs": [
    {
     "name": "stdout",
     "output_type": "stream",
     "text": [
      "0.87\n"
     ]
    }
   ],
   "source": [
    "#resposta da 4\n",
    "\n",
    "prob_menino_15 = 0.69 + 0.33 -0.03*5\n",
    "print(prob_menino_15)"
   ]
  },
  {
   "cell_type": "code",
   "execution_count": 12,
   "metadata": {},
   "outputs": [
    {
     "ename": "NameError",
     "evalue": "name 'np' is not defined",
     "output_type": "error",
     "traceback": [
      "\u001b[1;31m---------------------------------------------------------------------------\u001b[0m",
      "\u001b[1;31mNameError\u001b[0m                                 Traceback (most recent call last)",
      "\u001b[1;32m<ipython-input-12-6338f93903db>\u001b[0m in \u001b[0;36m<module>\u001b[1;34m\u001b[0m\n\u001b[1;32m----> 1\u001b[1;33m \u001b[0mnp\u001b[0m\u001b[1;33m.\u001b[0m\u001b[0mrandom\u001b[0m\u001b[1;33m.\u001b[0m\u001b[0mseed\u001b[0m\u001b[1;33m(\u001b[0m\u001b[1;36m42\u001b[0m\u001b[1;33m)\u001b[0m\u001b[1;33m\u001b[0m\u001b[1;33m\u001b[0m\u001b[0m\n\u001b[0m\u001b[0;32m      2\u001b[0m \u001b[0merror\u001b[0m \u001b[1;33m=\u001b[0m \u001b[0mnp\u001b[0m\u001b[1;33m.\u001b[0m\u001b[0mrandom\u001b[0m\u001b[1;33m.\u001b[0m\u001b[0mnormal\u001b[0m\u001b[1;33m(\u001b[0m\u001b[1;36m0\u001b[0m\u001b[1;33m,\u001b[0m\u001b[1;36m1\u001b[0m\u001b[1;33m,\u001b[0m\u001b[1;36m100\u001b[0m\u001b[1;33m)\u001b[0m\u001b[1;33m\u001b[0m\u001b[1;33m\u001b[0m\u001b[0m\n\u001b[0;32m      3\u001b[0m \u001b[0mpred\u001b[0m \u001b[1;33m=\u001b[0m \u001b[0mnp\u001b[0m\u001b[1;33m.\u001b[0m\u001b[0mrandom\u001b[0m\u001b[1;33m.\u001b[0m\u001b[0mnormal\u001b[0m\u001b[1;33m(\u001b[0m\u001b[1;36m0\u001b[0m\u001b[1;33m,\u001b[0m\u001b[1;36m1\u001b[0m\u001b[1;33m,\u001b[0m\u001b[1;36m100\u001b[0m\u001b[1;33m)\u001b[0m\u001b[1;33m\u001b[0m\u001b[1;33m\u001b[0m\u001b[0m\n\u001b[0;32m      4\u001b[0m \u001b[0mdf\u001b[0m \u001b[1;33m=\u001b[0m \u001b[0mpd\u001b[0m\u001b[1;33m.\u001b[0m\u001b[0mDataFrame\u001b[0m\u001b[1;33m(\u001b[0m\u001b[1;33m{\u001b[0m\u001b[1;34m\"X\"\u001b[0m\u001b[1;33m:\u001b[0m\u001b[0mpred\u001b[0m\u001b[1;33m,\u001b[0m\u001b[1;34m\"error\"\u001b[0m\u001b[1;33m:\u001b[0m\u001b[0merror\u001b[0m\u001b[1;33m}\u001b[0m\u001b[1;33m)\u001b[0m\u001b[1;33m\u001b[0m\u001b[1;33m\u001b[0m\u001b[0m\n",
      "\u001b[1;31mNameError\u001b[0m: name 'np' is not defined"
     ]
    }
   ],
   "source": [
    "np.random.seed(42)\n",
    "error = np.random.normal(0,1,100)\n",
    "pred = np.random.normal(0,1,100)\n",
    "df = pd.DataFrame({\"X\":pred,\"error\":error})"
   ]
  },
  {
   "cell_type": "code",
   "execution_count": 47,
   "metadata": {},
   "outputs": [],
   "source": [
    "df[\"X^2\"] = df[\"X\"].apply(lambda x:x**2)\n",
    "df[\"X^3\"] = df[\"X\"].apply(lambda x:x**3)"
   ]
  },
  {
   "cell_type": "markdown",
   "metadata": {},
   "source": [
    " # paramêtros escolhidos "
   ]
  },
  {
   "cell_type": "code",
   "execution_count": 48,
   "metadata": {},
   "outputs": [],
   "source": [
    "b0 = 0.5\n",
    "b1 = 0.4\n",
    "b2 = -0.25\n",
    "b3 = -0.97"
   ]
  },
  {
   "cell_type": "code",
   "execution_count": 49,
   "metadata": {},
   "outputs": [],
   "source": [
    "df[\"y\"] = b0 + b1*df[\"X\"] + b2*df[\"X^2\"] +b3*df[\"X^3\"] + error"
   ]
  },
  {
   "cell_type": "code",
   "execution_count": 57,
   "metadata": {},
   "outputs": [],
   "source": [
    "X = df.iloc[:, :-1]\n",
    "X.drop(columns=\"error\",inplace=True)\n",
    "y = df.iloc[:, -1]"
   ]
  },
  {
   "cell_type": "code",
   "execution_count": 59,
   "metadata": {},
   "outputs": [
    {
     "name": "stdout",
     "output_type": "stream",
     "text": [
      "                                 OLS Regression Results                                \n",
      "=======================================================================================\n",
      "Dep. Variable:                      y   R-squared (uncentered):                   0.921\n",
      "Model:                            OLS   Adj. R-squared (uncentered):              0.919\n",
      "Method:                 Least Squares   F-statistic:                              378.8\n",
      "Date:                Tue, 11 May 2021   Prob (F-statistic):                    2.09e-53\n",
      "Time:                        21:16:23   Log-Likelihood:                         -136.09\n",
      "No. Observations:                 100   AIC:                                      278.2\n",
      "Df Residuals:                      97   BIC:                                      286.0\n",
      "Df Model:                           3                                                  \n",
      "Covariance Type:            nonrobust                                                  \n",
      "==============================================================================\n",
      "                 coef    std err          t      P>|t|      [0.025      0.975]\n",
      "------------------------------------------------------------------------------\n",
      "X              0.5620      0.181      3.103      0.003       0.203       0.921\n",
      "X^2           -0.0245      0.084     -0.293      0.770      -0.190       0.141\n",
      "X^3           -1.1098      0.063    -17.556      0.000      -1.235      -0.984\n",
      "==============================================================================\n",
      "Omnibus:                        0.466   Durbin-Watson:                   1.942\n",
      "Prob(Omnibus):                  0.792   Jarque-Bera (JB):                0.616\n",
      "Skew:                          -0.067   Prob(JB):                        0.735\n",
      "Kurtosis:                       2.639   Cond. No.                         7.00\n",
      "==============================================================================\n",
      "\n",
      "Notes:\n",
      "[1] R² is computed without centering (uncentered) since the model does not contain a constant.\n",
      "[2] Standard Errors assume that the covariance matrix of the errors is correctly specified.\n"
     ]
    }
   ],
   "source": [
    "import statsmodels.api as sm\n",
    "model = sm.OLS(y, X)\n",
    "results = model.fit()\n",
    "print(results.summary())"
   ]
  },
  {
   "cell_type": "markdown",
   "metadata": {},
   "source": [
    "# Ridge"
   ]
  },
  {
   "cell_type": "code",
   "execution_count": 94,
   "metadata": {},
   "outputs": [
    {
     "name": "stdout",
     "output_type": "stream",
     "text": [
      "Alpha:0.12  R_Ajustado:0.5370858851396696 \n"
     ]
    }
   ],
   "source": [
    "from sklearn.metrics import r2_score\n",
    "from numpy import arange\n",
    "from pandas import read_csv\n",
    "from sklearn.linear_model import RidgeCV\n",
    "from sklearn.model_selection import RepeatedKFold\n",
    "# define model evaluation method\n",
    "cv = RepeatedKFold(n_splits=10, n_repeats=3) \n",
    "# define model\n",
    "model = RidgeCV(alphas=arange(0, 1, 0.01),cv=cv,scoring='neg_mean_squared_error')\n",
    "# fit model\n",
    "model.fit(X, y)\n",
    "# summarize chosen configuration\n",
    "print(f\"Alpha:{model.alpha_}  R_Ajustado:{model.score(X=X,y=y)} \")"
   ]
  },
  {
   "cell_type": "markdown",
   "metadata": {},
   "source": [
    "# Lasso"
   ]
  },
  {
   "cell_type": "code",
   "execution_count": 87,
   "metadata": {},
   "outputs": [
    {
     "name": "stdout",
     "output_type": "stream",
     "text": [
      "Alpha:0.0021480435755295  R_Ajustado:0.5432547932378284 \n"
     ]
    }
   ],
   "source": [
    "from sklearn.metrics import r2_score\n",
    "from numpy import arange\n",
    "from sklearn.linear_model import LassoCV\n",
    "from sklearn.model_selection import RepeatedKFold\n",
    "# define model evaluation method\n",
    "cv = RepeatedKFold(n_splits=10, n_repeats=3, random_state=1)\n",
    "# define model\n",
    "model = LassoCV(cv=cv,random_state=42,n_alphas=500)\n",
    "# fit model\n",
    "model.fit(X, y)\n",
    "# summarize chosen configuration\n",
    "print(f\"Alpha:{model.alpha_}  R_Ajustado:{model.score(X=X,y=y)} \")"
   ]
  },
  {
   "cell_type": "markdown",
   "metadata": {},
   "source": [
    "# resolução ex 22 cap 6"
   ]
  },
  {
   "cell_type": "code",
   "execution_count": 1,
   "metadata": {},
   "outputs": [],
   "source": [
    "import pandas as pd "
   ]
  },
  {
   "cell_type": "code",
   "execution_count": 24,
   "metadata": {},
   "outputs": [],
   "source": [
    "df = pd.read_excel(\"C:/Users/9900Ks/Downloads/endometriose2.xls\",sheet_name=\"df\")\n",
    "df[\"dormenstrual\"] = df[\"dormenstrual\"].replace({\"nao\":0,\"sim\":1})\n",
    "df[\"endometriose\"] = df[\"endometriose\"].replace({\"nao\":0,\"sim\":1})\n",
    "df[\"dismenorreia\"] = df[\"dismenorreia\"].replace({\"nao\":0,\"leve\":1,\"moderada\":2,\"intensa\":3,\"incapacitante\":4})\n",
    "df[\"tipoesteril\"] = df[\"tipoesteril\"].replace({\"nao\":0,\"sim\":1,\"secundaria\":2,\"primaria\":1})\n",
    "df.dropna(inplace=True)"
   ]
  },
  {
   "cell_type": "code",
   "execution_count": 26,
   "metadata": {},
   "outputs": [
    {
     "name": "stdout",
     "output_type": "stream",
     "text": [
      "Optimization terminated successfully.\n",
      "         Current function value: 0.520657\n",
      "         Iterations 6\n",
      "                                 OLS Regression Results                                \n",
      "=======================================================================================\n",
      "Dep. Variable:           endometriose   R-squared (uncentered):                   0.343\n",
      "Model:                            OLS   Adj. R-squared (uncentered):              0.341\n",
      "Method:                 Least Squares   F-statistic:                              243.4\n",
      "Date:                Sun, 16 May 2021   Prob (F-statistic):                   2.29e-168\n",
      "Time:                        17:56:45   Log-Likelihood:                         -1012.4\n",
      "No. Observations:                1870   AIC:                                      2033.\n",
      "Df Residuals:                    1866   BIC:                                      2055.\n",
      "Df Model:                           4                                                  \n",
      "Covariance Type:            nonrobust                                                  \n",
      "================================================================================\n",
      "                   coef    std err          t      P>|t|      [0.025      0.975]\n",
      "--------------------------------------------------------------------------------\n",
      "idade            0.0015      0.000      3.529      0.000       0.001       0.002\n",
      "dormenstrual     0.0604      0.031      1.930      0.054      -0.001       0.122\n",
      "dismenorreia     0.0941      0.011      8.659      0.000       0.073       0.115\n",
      "tipoesteril      0.0448      0.014      3.281      0.001       0.018       0.072\n",
      "==============================================================================\n",
      "Omnibus:                      242.931   Durbin-Watson:                   0.267\n",
      "Prob(Omnibus):                  0.000   Jarque-Bera (JB):              234.924\n",
      "Skew:                           0.800   Prob(JB):                     9.70e-52\n",
      "Kurtosis:                       2.326   Cond. No.                         122.\n",
      "==============================================================================\n",
      "\n",
      "Notes:\n",
      "[1] R² is computed without centering (uncentered) since the model does not contain a constant.\n",
      "[2] Standard Errors assume that the covariance matrix of the errors is correctly specified.\n"
     ]
    }
   ],
   "source": [
    "X = df.iloc[:, :-1]\n",
    "y = df.iloc[:, -1]\n",
    "import statsmodels.api as sm\n",
    "log_reg = sm.Logit(y, X).fit()\n",
    "results = model.fit()\n",
    "print(results.summary())"
   ]
  },
  {
   "cell_type": "code",
   "execution_count": 27,
   "metadata": {},
   "outputs": [
    {
     "name": "stdout",
     "output_type": "stream",
     "text": [
      "idade           0.001484\n",
      "dormenstrual    0.060441\n",
      "dismenorreia    0.094114\n",
      "tipoesteril     0.044816\n",
      "dtype: float64\n"
     ]
    }
   ],
   "source": [
    "print(results.params)"
   ]
  },
  {
   "cell_type": "markdown",
   "metadata": {},
   "source": [
    "# resolução ex 2 cap 11\n",
    "\n"
   ]
  },
  {
   "cell_type": "code",
   "execution_count": 39,
   "metadata": {},
   "outputs": [],
   "source": [
    "df = pd.read_excel('C:/Users/9900Ks/Downloads/esforco.xls',sheet_name=\"Sheet1\")\n",
    "X = df.iloc[:, :-1]\n",
    "X[\"Sexo\"] = X[\"Sexo\"].replace({\"M\":0,\"F\":1})\n",
    "y = df.iloc[:, -1]"
   ]
  },
  {
   "cell_type": "code",
   "execution_count": 41,
   "metadata": {},
   "outputs": [
    {
     "name": "stdout",
     "output_type": "stream",
     "text": [
      "Alpha:0.14  R_Ajustado:0.8799760585124687 \n"
     ]
    }
   ],
   "source": [
    "#RIDGE\n",
    "from sklearn.metrics import r2_score\n",
    "from numpy import arange\n",
    "from pandas import read_csv\n",
    "from sklearn.linear_model import RidgeCV\n",
    "from sklearn.model_selection import RepeatedKFold\n",
    "# define model evaluation method\n",
    "cv = RepeatedKFold(n_splits=10, n_repeats=3) \n",
    "# define model\n",
    "model = RidgeCV(alphas=arange(0, 1, 0.01),cv=cv,scoring='neg_mean_squared_error')\n",
    "# fit model\n",
    "model.fit(X, y)\n",
    "# summarize chosen configuration\n",
    "print(f\"Alpha:{model.alpha_}  R_Ajustado:{model.score(X=X,y=y)} \")"
   ]
  },
  {
   "cell_type": "code",
   "execution_count": 42,
   "metadata": {},
   "outputs": [
    {
     "name": "stdout",
     "output_type": "stream",
     "text": [
      "Alpha:0.23246810624000003  R_Ajustado:0.8497365446346362 \n"
     ]
    }
   ],
   "source": [
    "#LASSO\n",
    "from sklearn.metrics import r2_score\n",
    "from numpy import arange\n",
    "from sklearn.linear_model import LassoCV\n",
    "from sklearn.model_selection import RepeatedKFold\n",
    "# define model evaluation method\n",
    "cv = RepeatedKFold(n_splits=10, n_repeats=3, random_state=1)\n",
    "# define model\n",
    "model = LassoCV(cv=cv,random_state=42,n_alphas=500)\n",
    "# fit model\n",
    "model.fit(X, y)\n",
    "# summarize chosen configuration\n",
    "print(f\"Alpha:{model.alpha_}  R_Ajustado:{model.score(X=X,y=y)} \")"
   ]
  },
  {
   "cell_type": "code",
   "execution_count": 43,
   "metadata": {},
   "outputs": [
    {
     "name": "stdout",
     "output_type": "stream",
     "text": [
      "Alpha:0.46493621248  R_Ajustado:0.8490276070710217 \n"
     ]
    }
   ],
   "source": [
    "#elastic net\n",
    "from sklearn.metrics import r2_score\n",
    "from numpy import arange\n",
    "from sklearn.linear_model import ElasticNetCV\n",
    "from sklearn.model_selection import RepeatedKFold\n",
    "# define model evaluation method\n",
    "cv = RepeatedKFold(n_splits=10, n_repeats=3, random_state=1)\n",
    "# define model\n",
    "model = ElasticNetCV(cv=cv,random_state=42,n_alphas=500)\n",
    "# fit model\n",
    "model.fit(X, y)\n",
    "# summarize chosen configuration\n",
    "print(f\"Alpha:{model.alpha_}  R_Ajustado:{model.score(X=X,y=y)} \")"
   ]
  },
  {
   "cell_type": "code",
   "execution_count": null,
   "metadata": {},
   "outputs": [],
   "source": []
  }
 ],
 "metadata": {
  "kernelspec": {
   "display_name": "Python 3",
   "language": "python",
   "name": "python3"
  },
  "language_info": {
   "codemirror_mode": {
    "name": "ipython",
    "version": 3
   },
   "file_extension": ".py",
   "mimetype": "text/x-python",
   "name": "python",
   "nbconvert_exporter": "python",
   "pygments_lexer": "ipython3",
   "version": "3.8.5"
  }
 },
 "nbformat": 4,
 "nbformat_minor": 4
}
