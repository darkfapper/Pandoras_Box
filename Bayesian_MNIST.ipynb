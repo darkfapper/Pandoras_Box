{
  "cells": [
    {
      "cell_type": "markdown",
      "metadata": {
        "id": "view-in-github",
        "colab_type": "text"
      },
      "source": [
        "<a href=\"https://colab.research.google.com/github/darkfapper/Pandoras_Box/blob/main/Bayesian_MNIST.ipynb\" target=\"_parent\"><img src=\"https://colab.research.google.com/assets/colab-badge.svg\" alt=\"Open In Colab\"/></a>"
      ]
    },
    {
      "cell_type": "code",
      "execution_count": null,
      "metadata": {
        "id": "nKNAoZxk3t78"
      },
      "outputs": [],
      "source": [
        "import numpy as np\n",
        "import tensorflow as tf\n",
        "import tensorflow_probability as tfp\n",
        "import pandas as pd\n",
        "import matplotlib.pyplot as plt\n",
        "tfd = tfp.distributions\n",
        "tfb = tfp.bijectors\n",
        "tfn = tfp.experimental.nn\n",
        "\n",
        "NUM_CLASSES = 10\n",
        "NUM_TRAIN_EXAMPLES = 100\n",
        "\n",
        "\n",
        "\n",
        "# Load in the data\n",
        "cifar10 = tf.keras.datasets.mnist\n",
        "\n",
        "# Distribute it to train and test set\n",
        "(x_train, y_train), (x_test, y_test) = cifar10.load_data()\n",
        "\n",
        "# x_train = x_train.astype(\"float32\") /255.\n",
        "# x_test = x_test.astype(\"float32\") / 255.\n",
        "\n",
        "x_train =np.expand_dims(x_train, -1).astype(\"float32\") / 255.\n",
        "x_test =np.expand_dims(x_test, -1).astype(\"float32\") / 255.\n",
        "\n",
        "\n",
        "kl_divergence_function = (lambda q, p, _: tfd.kl_divergence(q, p) /  tf.cast(x_train.shape[0], dtype=tf.float32))"
      ]
    },
    {
      "cell_type": "code",
      "execution_count": null,
      "metadata": {
        "id": "fh2T8nB6FPBm"
      },
      "outputs": [],
      "source": [
        "x_train.shape"
      ]
    },
    {
      "cell_type": "code",
      "execution_count": null,
      "metadata": {
        "id": "2ASC3MdV3y8c"
      },
      "outputs": [],
      "source": [
        "\n",
        "## Fonte: https://github.com/tensorflow/probability/blob/main/tensorflow_probability/examples/bayesian_neural_network.py\n",
        "model = tf.keras.models.Sequential([\n",
        "      tf.keras.layers.Input((28,28,1)),\n",
        "      tfp.layers.Convolution2DFlipout(\n",
        "          6, kernel_size=5, padding='SAME',\n",
        "          kernel_divergence_fn=kl_divergence_function,\n",
        "          activation=tf.nn.selu),\n",
        "      tf.keras.layers.MaxPooling2D(\n",
        "          pool_size=[2, 2], strides=[2, 2],\n",
        "          padding='SAME'),\n",
        "      tfp.layers.Convolution2DFlipout(\n",
        "          32, kernel_size=5, padding='SAME',\n",
        "          kernel_divergence_fn=kl_divergence_function,\n",
        "          activation=tf.nn.selu),\n",
        "      tf.keras.layers.MaxPooling2D(\n",
        "          pool_size=[2, 2], strides=[2, 2],\n",
        "          padding='SAME'),\n",
        "      tfp.layers.Convolution2DFlipout(\n",
        "          120, kernel_size=5, padding='SAME',\n",
        "          kernel_divergence_fn=kl_divergence_function,\n",
        "          activation=tf.nn.selu),\n",
        "      tf.keras.layers.Flatten(),\n",
        "      tfp.layers.DenseFlipout(\n",
        "          84, kernel_divergence_fn=kl_divergence_function,\n",
        "          activation=tf.nn.selu),\n",
        "      tfp.layers.DenseFlipout(\n",
        "          NUM_CLASSES, kernel_divergence_fn=kl_divergence_function,\n",
        "          activation=tf.nn.softmax)\n",
        "  ])\n",
        "\n",
        "\n",
        "adam = tf.keras.optimizers.Adam(learning_rate=0.001)\n",
        "model.compile(optimizer = adam, loss = \"sparse_categorical_crossentropy\",metrics = [\"accuracy\"])\n",
        "model.summary()"
      ]
    },
    {
      "cell_type": "code",
      "execution_count": null,
      "metadata": {
        "id": "XM-7j3HQmsf9"
      },
      "outputs": [],
      "source": [
        "\n",
        "# ## Fonte: https://github.com/tensorflow/probability/blob/main/tensorflow_probability/examples/bayesian_neural_network.py\n",
        "# model = tf.keras.models.Sequential([\n",
        "#       tf.keras.layers.Input((32,32,3)),\n",
        "#       tfp.layers.Convolution2DFlipout(\n",
        "#           32, kernel_size=5, padding='SAME',\n",
        "#           kernel_divergence_fn=kl_divergence_function,\n",
        "#           activation=tf.nn.selu),\n",
        "#       tf.keras.layers.MaxPooling2D(\n",
        "#           pool_size=[2, 2], strides=[2, 2],\n",
        "#           padding='SAME'),\n",
        "#       tfp.layers.Convolution2DFlipout(\n",
        "#           32, kernel_size=5, padding='SAME',\n",
        "#           kernel_divergence_fn=kl_divergence_function,\n",
        "#           activation=tf.nn.selu),\n",
        "#       tf.keras.layers.MaxPooling2D(\n",
        "#           pool_size=[2, 2], strides=[2, 2],\n",
        "#           padding='SAME'),\n",
        "#       tfp.layers.Convolution2DFlipout(\n",
        "#           64, kernel_size=5, padding='SAME',\n",
        "#           kernel_divergence_fn=kl_divergence_function,\n",
        "#           activation=tf.nn.selu),\n",
        "#       tfp.layers.Convolution2DFlipout(\n",
        "#           64, kernel_size=5, padding='SAME',\n",
        "#           kernel_divergence_fn=kl_divergence_function,\n",
        "#           activation=tf.nn.selu),\n",
        "#       tf.keras.layers.MaxPooling2D(\n",
        "#           pool_size=[2, 2], strides=[2, 2],\n",
        "#           padding='SAME'),\n",
        "#       tf.keras.layers.Flatten(),\n",
        "#       tfp.layers.DenseFlipout(\n",
        "#           2048, kernel_divergence_fn=kl_divergence_function,\n",
        "#           activation=tf.nn.selu),\n",
        "#       tfp.layers.DenseFlipout(\n",
        "#           1024, kernel_divergence_fn=kl_divergence_function,\n",
        "#           activation=tf.nn.selu),\n",
        "#       tfp.layers.DenseFlipout(\n",
        "#           NUM_CLASSES, kernel_divergence_fn=kl_divergence_function,\n",
        "#           activation=tf.nn.softmax)\n",
        "#   ])\n",
        "\n",
        "\n",
        "# adam = tf.keras.optimizers.Adam(learning_rate=0.001)\n",
        "# model.compile(optimizer = adam, loss = \"sparse_categorical_crossentropy\",metrics = [\"accuracy\"])\n",
        "# model.summary()"
      ]
    },
    {
      "cell_type": "code",
      "execution_count": null,
      "metadata": {
        "id": "2VCd0G0PGNn_"
      },
      "outputs": [],
      "source": [
        "history = model.fit(x_train, y_train, epochs = 10,validation_data = (x_test, y_test))"
      ]
    },
    {
      "cell_type": "code",
      "execution_count": null,
      "metadata": {
        "id": "DYqxmqdcGTKT"
      },
      "outputs": [],
      "source": [
        "model.evaluate(x_test, y_test)"
      ]
    },
    {
      "cell_type": "code",
      "execution_count": null,
      "metadata": {
        "id": "YVlVmQPnGp2t"
      },
      "outputs": [],
      "source": [
        "lista = []\n",
        "NUM_MC_SAMPLES = 300\n",
        "for i in range(NUM_MC_SAMPLES):\n",
        "  lista.append(model(x_test))"
      ]
    },
    {
      "cell_type": "code",
      "source": [
        "imarray = np.random.rand(28,28,1) * 255"
      ],
      "metadata": {
        "id": "DdZhjaerAe_f"
      },
      "execution_count": null,
      "outputs": []
    },
    {
      "cell_type": "code",
      "execution_count": null,
      "metadata": {
        "id": "bW0OrA6nn_WS"
      },
      "outputs": [],
      "source": [
        "import matplotlib.pyplot as plt\n",
        "arr = np.array(lista)\n",
        "\n",
        "x = np.random.randint(0, x_test.shape[0])\n",
        "val = arr[:,x,:]\n",
        "img = x_test[x,:]\n",
        "img =imarray\n",
        "plt.imshow(img, cmap=plt.get_cmap('gray'))\n",
        "plt.show()\n",
        "val = pd.DataFrame(val)\n",
        "val.hist( bins=25,\n",
        "grid=False, figsize=(15,12), color='#86bf91',rwidth=0.9)\n",
        "plt.show()"
      ]
    },
    {
      "cell_type": "code",
      "execution_count": null,
      "metadata": {
        "id": "n_OAGF1JO-C1"
      },
      "outputs": [],
      "source": [
        "from PIL import Image\n",
        "img = Image.fromarray(x_train[999,:],\"RGB\")\n",
        "img.save(\"img.png\")\n",
        "img.show()"
      ]
    },
    {
      "cell_type": "code",
      "execution_count": null,
      "metadata": {
        "id": "yOD1PXDEAh7Z"
      },
      "outputs": [],
      "source": []
    }
  ],
  "metadata": {
    "accelerator": "GPU",
    "colab": {
      "provenance": [],
      "authorship_tag": "ABX9TyP5IsvIyZU5j6SAu7Pr9J0N",
      "include_colab_link": true
    },
    "kernelspec": {
      "display_name": "Python 3",
      "name": "python3"
    },
    "language_info": {
      "name": "python"
    }
  },
  "nbformat": 4,
  "nbformat_minor": 0
}