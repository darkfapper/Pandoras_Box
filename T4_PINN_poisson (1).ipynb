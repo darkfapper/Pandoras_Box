{
  "cells": [
    {
      "cell_type": "markdown",
      "metadata": {
        "id": "HoMVOtVSZ7s-"
      },
      "source": [
        "# Physics-Informed Neural Network\n",
        "\n",
        "Nome:\n",
        "\n",
        "Neste notebook resolveremos a equação de Poisson em duas dimensões usando uma rede neural informada por física\n",
        "\n",
        "A implementação será feita da mesma forma que para a equação de Burgers, resolvida em sala.\n",
        "\n",
        "Consulte os slides da aula 7 para a teoria e a definição do problema em mais detalhes."
      ]
    },
    {
      "cell_type": "markdown",
      "metadata": {
        "id": "74YEHFhYZ_Xb"
      },
      "source": [
        "#Importar bibliotecas\n",
        "\n",
        "Nesse caso, usaremos o PyTorch para poder utilizar a funcionalidade de diferenciação automática"
      ]
    },
    {
      "cell_type": "code",
      "execution_count": null,
      "metadata": {
        "id": "vreodk0qZk3K"
      },
      "outputs": [],
      "source": [
        "!pip install plotly --quiet\n",
        "\n",
        "import torch\n",
        "import torch.nn as nn\n",
        "import numpy as np\n",
        "\n",
        "import plotly.express as px\n",
        "import plotly.graph_objects as go\n",
        "\n",
        "np.random.seed(1)"
      ]
    },
    {
      "cell_type": "markdown",
      "metadata": {
        "id": "VNVmkg6dvUht"
      },
      "source": [
        "# Geração do domínio\n",
        "\n",
        "Nesta seção, geraremos os pontos que a rede usará como referência para encontrar a solução"
      ]
    },
    {
      "cell_type": "markdown",
      "metadata": {
        "id": "Oxl9Ebk4fUCF"
      },
      "source": [
        "## Exercício 1: Criar função que gera pontos no contorno do domínio\n",
        "\n",
        "Primeiro, vamos gerar pontos ao longo da condição de contorno. Nestes pontos, sabemos qual deve ser o valor de z. Eles servem para \"ancorar\" o resto da superfície da solução.\n",
        "\n",
        "O domínio tem 4 lados, cada um deles terá 1/4 do número total de pontos.\n",
        "\n",
        "As condições de contorno são as seguintes:\n",
        "\n",
        "Lado 1: $z(x=0,y) = 0$\n",
        "\n",
        "Lado 2: $z(x,y=l_y) = -\\sin(\\pi x/l_x)$\n",
        "\n",
        "Lado 3: $z(x=l_x,y) = -sin(2 \\pi y/l_y)$\n",
        "\n",
        "Lado 4: $z(x,y=0) = \\sin(\\pi x/l_x)$\n",
        "\n",
        "Note que: $l_x$ e $l_y$ são comprimento_x e comprimento_y, respectivamente."
      ]
    },
    {
      "cell_type": "code",
      "execution_count": null,
      "metadata": {
        "id": "9yDCG2c7aXjv"
      },
      "outputs": [],
      "source": [
        "def gerar_pontos_contorno(pontos_no_contorno,comprimento_x,comprimento_y):\n",
        "  pontos_por_lado = pontos_no_contorno//4\n",
        "\n",
        "  # Lado 1 (x = 0, qualquer y)\n",
        "  # PARA VOCÊ FAZER (3 LINHAS)\n",
        "  # -------------------------------\n",
        "  x_lado1 =\n",
        "  y_lado1 =\n",
        "  z_lado1 =\n",
        "  # -------------------------------\n",
        "  # ATÉ AQUI\n",
        "\n",
        "  # Lado 2 (qualquer x, y = comprimento_y)\n",
        "  # PARA VOCÊ FAZER (3 LINHAS)\n",
        "  # -------------------------------\n",
        "\n",
        "  # -------------------------------\n",
        "  # ATÉ AQUI\n",
        "\n",
        "  # Lado 3 (x = comprimento_x, qualquer y)\n",
        "  # PARA VOCÊ FAZER (3 LINHAS)\n",
        "  # -------------------------------\n",
        "\n",
        "  # -------------------------------\n",
        "  # ATÉ AQUI\n",
        "\n",
        "  # Lado 4 (qualquer x, y = 0)\n",
        "  # PARA VOCÊ FAZER (3 LINHAS)\n",
        "  # -------------------------------\n",
        "\n",
        "  # -------------------------------\n",
        "  # ATÉ AQUI\n",
        "\n",
        "  # Juntar todos os lados\n",
        "  x_todos = np.vstack((x_lado1,x_lado2,x_lado3,x_lado4))\n",
        "  y_todos = np.vstack((y_lado1,y_lado2,y_lado3,y_lado4))\n",
        "  z_todos = np.vstack((z_lado1,z_lado2,z_lado3,z_lado4))\n",
        "\n",
        "  # Criar arrays X e Y\n",
        "  X_contorno = np.hstack((x_todos,y_todos))\n",
        "  Y_contorno = z_todos\n",
        "\n",
        "  return X_contorno, Y_contorno"
      ]
    },
    {
      "cell_type": "code",
      "execution_count": null,
      "metadata": {
        "id": "OxAQrUG5V2r3"
      },
      "outputs": [],
      "source": [
        "# Testar a função acima com 40 pontos\n",
        "X_contorno, Y_contorno = gerar_pontos_contorno(40,1,1)\n",
        "\n",
        "print(np.hstack((X_contorno, Y_contorno)))"
      ]
    },
    {
      "cell_type": "markdown",
      "metadata": {
        "id": "JlOR_j3LApOH"
      },
      "source": [
        "Saída esperada:\n",
        "Cada linha aqui representa um ponto a ser usado na avaliação da condição de contorno. A primeira coluna é a posição no eixo x, a segunda, no eixo y, e a terceira, no z.\n",
        "```\n",
        "[[ 0.00000000e+00  4.17022005e-01  0.00000000e+00]\n",
        " [ 0.00000000e+00  7.20324493e-01  0.00000000e+00]\n",
        " [ 0.00000000e+00  1.14374817e-04  0.00000000e+00]\n",
        " [ 0.00000000e+00  3.02332573e-01  0.00000000e+00]\n",
        " [ 0.00000000e+00  1.46755891e-01  0.00000000e+00]\n",
        " [ 0.00000000e+00  9.23385948e-02  0.00000000e+00]\n",
        " [ 0.00000000e+00  1.86260211e-01  0.00000000e+00]\n",
        " [ 0.00000000e+00  3.45560727e-01  0.00000000e+00]\n",
        " [ 0.00000000e+00  3.96767474e-01  0.00000000e+00]\n",
        " [ 0.00000000e+00  5.38816734e-01  0.00000000e+00]\n",
        " [ 4.19194514e-01  1.00000000e+00 -9.67950749e-01]\n",
        " [ 6.85219500e-01  1.00000000e+00 -8.35428567e-01]\n",
        " [ 2.04452250e-01  1.00000000e+00 -5.99043233e-01]\n",
        " [ 8.78117436e-01  1.00000000e+00 -3.73617011e-01]\n",
        " [ 2.73875932e-02  1.00000000e+00 -8.59345411e-02]\n",
        " [ 6.70467510e-01  1.00000000e+00 -8.59993456e-01]\n",
        " [ 4.17304802e-01  1.00000000e+00 -9.66442756e-01]\n",
        " [ 5.58689828e-01  1.00000000e+00 -9.83050194e-01]\n",
        " [ 1.40386939e-01  1.00000000e+00 -4.26878888e-01]\n",
        " [ 1.98101489e-01  1.00000000e+00 -5.82949567e-01]\n",
        " [ 1.00000000e+00  8.00744569e-01  9.49600451e-01]\n",
        " [ 1.00000000e+00  9.68261576e-01  1.98099292e-01]\n",
        " [ 1.00000000e+00  3.13424178e-01 -9.21641810e-01]\n",
        " [ 1.00000000e+00  6.92322616e-01  9.35049489e-01]\n",
        " [ 1.00000000e+00  8.76389152e-01  7.00908084e-01]\n",
        " [ 1.00000000e+00  8.94606664e-01  6.14857974e-01]\n",
        " [ 1.00000000e+00  8.50442114e-02 -5.09280500e-01]\n",
        " [ 1.00000000e+00  3.90547832e-02 -2.42933147e-01]\n",
        " [ 1.00000000e+00  1.69830420e-01 -8.75792872e-01]\n",
        " [ 1.00000000e+00  8.78142503e-01  6.93008081e-01]\n",
        " [ 9.83468338e-02  0.00000000e+00  3.04073466e-01]\n",
        " [ 4.21107625e-01  0.00000000e+00  9.69442663e-01]\n",
        " [ 9.57889530e-01  0.00000000e+00  1.31908386e-01]\n",
        " [ 5.33165285e-01  0.00000000e+00  9.94576941e-01]\n",
        " [ 6.91877114e-01  0.00000000e+00  8.23751535e-01]\n",
        " [ 3.15515631e-01  0.00000000e+00  8.36695628e-01]\n",
        " [ 6.86500928e-01  0.00000000e+00  8.33209270e-01]\n",
        " [ 8.34625672e-01  0.00000000e+00  4.96479824e-01]\n",
        " [ 1.82882773e-02  0.00000000e+00  5.74227135e-02]\n",
        " [ 7.50144315e-01  0.00000000e+00  7.06786121e-01]]\n",
        "```\n",
        "\n"
      ]
    },
    {
      "cell_type": "markdown",
      "metadata": {
        "id": "umzh2VTxpmtD"
      },
      "source": [
        "## Exercício 2 - Criar função que gera pontos de avaliação da equação\n",
        "\n",
        "Esta é a segunda classe de pontos que usaremos. Neles, não sabemos a solução. Mas sabemos qual equação eles devem obedecer.\n",
        "\n",
        "Estes pontos estão uniformemente distribuídos ao longo do domínio."
      ]
    },
    {
      "cell_type": "code",
      "execution_count": null,
      "metadata": {
        "id": "wilune-fpmYO"
      },
      "outputs": [],
      "source": [
        "def gerar_pontos_equacao(pontos_no_dominio,comprimento_x,comprimento_y):\n",
        "\n",
        "  # Gerar pontos aleatórios em x e y entre 0 e comprimento_x e 0 e comprimento_y, respectivamente\n",
        "  # PARA VOCÊ FAZER (2 LINHAS)\n",
        "  # -------------------------------\n",
        "  x_dominio = \n",
        "  y_dominio = \n",
        "  # -------------------------------\n",
        "  # ATÉ AQUI\n",
        "\n",
        "  # Juntar as coordenadas x e y em um único array X\n",
        "  # PARA VOCÊ FAZER (3 LINHAS)\n",
        "  # -------------------------------\n",
        "  X_equacao = \n",
        "  # -------------------------------\n",
        "  # ATÉ AQUI\n",
        "\n",
        "  return X_equacao"
      ]
    },
    {
      "cell_type": "code",
      "execution_count": null,
      "metadata": {
        "id": "lChv_4DJBGC_"
      },
      "outputs": [],
      "source": [
        "# Testar a função acima com 20 pontos\n",
        "X_equacao= gerar_pontos_equacao(20,1,1)\n",
        "\n",
        "print(X_equacao)"
      ]
    },
    {
      "cell_type": "markdown",
      "metadata": {
        "id": "V-lSbwuEBSyw"
      },
      "source": [
        "Saída esperada:\n",
        "Cada linha aqui representa um ponto a ser usado na avaliação da equação. A primeira coluna é a posição no eixo x e a segunda, no eixo y."
      ]
    },
    {
      "cell_type": "markdown",
      "metadata": {
        "id": "SXI9kUsvf2QH"
      },
      "source": [
        "## Gerar pontos e plotar\n",
        "\n",
        "Agora, vamos usar as funções que montamos acima para gerar os pontos.\n",
        "\n",
        "A variável ressorteio controla se os pontos de avaliação da euqação serão ou não ressorteados após cada época.\n",
        "\n",
        "Como forma de mostrar outras das ferramentas disponíveis no Python, vou usar a biblioteca Plotly em vez da Matplotlib. Minha opinião é de que é uma biblioteca mais complicada de se utilizar, mas traz o ponto positivo de facilitar a interatividade com as imagens."
      ]
    },
    {
      "cell_type": "code",
      "execution_count": null,
      "metadata": {
        "id": "sR5ccahRejCI"
      },
      "outputs": [],
      "source": [
        "comprimento_x = 1\n",
        "comprimento_y = 1\n",
        "\n",
        "pontos_no_contorno = 400\n",
        "pontos_no_dominio = 1000\n",
        "ressorteio = True\n",
        "\n",
        "X_contorno, Y_contorno = gerar_pontos_contorno(pontos_no_contorno,comprimento_x,comprimento_y)\n",
        "X_equacao = gerar_pontos_equacao(pontos_no_dominio,comprimento_x,comprimento_y)\n"
      ]
    },
    {
      "cell_type": "markdown",
      "metadata": {
        "id": "IxUeSLAGxxRT"
      },
      "source": [
        "Plotamos uma vista superior do domínio para ver se os pontos estão nos lugares corretos"
      ]
    },
    {
      "cell_type": "code",
      "execution_count": null,
      "metadata": {
        "id": "26bB-yP2f549"
      },
      "outputs": [],
      "source": [
        "# Vista superior\n",
        "scatter_contorno = px.scatter(x=X_contorno[:,0],y=X_contorno[:,1])\n",
        "scatter_equacao = px.scatter(x=X_equacao[:,0],y=X_equacao[:,1], color_discrete_sequence=['red'])\n",
        "fig = go.Figure(data=scatter_contorno.data+scatter_equacao.data)\n",
        "fig.update_layout(xaxis_title='x',yaxis_title='y')\n",
        "fig.show()"
      ]
    },
    {
      "cell_type": "markdown",
      "metadata": {
        "id": "Q5KmQxYZx320"
      },
      "source": [
        "E uma vista em perspectiva apenas dos pontos do contorno, para ver se parece correto"
      ]
    },
    {
      "cell_type": "code",
      "execution_count": null,
      "metadata": {
        "id": "C9PkE7xWiTkN"
      },
      "outputs": [],
      "source": [
        "# Vista em perspectiva\n",
        "scatter_3d = px.scatter_3d(x=X_contorno[:,0].flatten(),y=X_contorno[:,1].flatten(),z=Y_contorno.flatten())\n",
        "fig = go.Figure(scatter_3d)\n",
        "fig.update_layout(scene=dict(aspectratio=dict(x=1.5, y=1.5, z=0.5)))\n",
        "fig.show()"
      ]
    },
    {
      "cell_type": "markdown",
      "metadata": {
        "id": "3acuyezJkBPY"
      },
      "source": [
        "# Definição da Rede Neural\n",
        "\n",
        "Neste seção, vamos definir a rede neural. Primeiro, montamos sua estrutura, depois definimos a função de perda e o otimizador."
      ]
    },
    {
      "cell_type": "markdown",
      "metadata": {
        "id": "Fmj6MWnryND9"
      },
      "source": [
        "## Exercício 3 - Estrutura da rede neural\n",
        "\n",
        "Vamos criar uma função que monta uma rede neural totalmente conectada baseada em uma lista com o número de neurônios em cada camada.\n",
        "\n",
        "Note que removemos a função de ativação da última camada pois estamos fazendo um ajuste de função"
      ]
    },
    {
      "cell_type": "code",
      "execution_count": null,
      "metadata": {
        "id": "I3mf-kdckDK6"
      },
      "outputs": [],
      "source": [
        "def criar_rede_neural(numero_de_neuronios):\n",
        "\n",
        "  # Criar uma lista de todas as camadas\n",
        "  camadas = []\n",
        "\n",
        "  # Para cada camada, adicionar as conexões e a função de ativação\n",
        "  for i in range(len(numero_de_neuronios)-1):\n",
        "    # PARA VOCÊ FAZER (2 LINHAS)\n",
        "    # Adicionar uma camada de conexões lineares e, depois, uma de funções de ativação de tangente hiperbólica\n",
        "    # -------------------------------\n",
        "\n",
        "    # -------------------------------\n",
        "    # ATÉ AQUI\n",
        "\n",
        "  # Remover a última camada, pois é a função de ativação\n",
        "  camadas.pop()\n",
        "\n",
        "  # Criar rede\n",
        "  return nn.Sequential(*camadas)"
      ]
    },
    {
      "cell_type": "markdown",
      "metadata": {
        "id": "nS7xxR0BnXP2"
      },
      "source": [
        "Agora, definimos o número de neurônios por camada e chamamos a função para inicializar a rede.\n",
        "\n",
        "Note que a primeira camada deve ter dois neurônios, pois a função tem duas entradas.\n",
        "\n",
        "De forma similar, a última camada deve ter apenas um neurônio, pois a função tem apenas uma saída."
      ]
    },
    {
      "cell_type": "code",
      "execution_count": null,
      "metadata": {
        "id": "L_BO8wDKmXvN"
      },
      "outputs": [],
      "source": [
        "# PARA VOCÊ FAZER (1 LINHA)\n",
        "# Definir que a RNA terá 3 camadas intermediárias, de 20 neurônios cada\n",
        "# -------------------------------\n",
        "numero_de_neuronios = \n",
        "# -------------------------------\n",
        "# ATÉ AQUI\n",
        "\n",
        "rna = criar_rede_neural(numero_de_neuronios)\n",
        "\n",
        "print(rna)"
      ]
    },
    {
      "cell_type": "markdown",
      "metadata": {
        "id": "-mPvaFrmC9gj"
      },
      "source": [
        "Saída esperada:\n",
        "\n",
        "```\n",
        "Sequential(\n",
        "  (0): Linear(in_features=2, out_features=20, bias=True)\n",
        "  (1): Tanh()\n",
        "  (2): Linear(in_features=20, out_features=20, bias=True)\n",
        "  (3): Tanh()\n",
        "  (4): Linear(in_features=20, out_features=20, bias=True)\n",
        "  (5): Tanh()\n",
        "  (6): Linear(in_features=20, out_features=1, bias=True)\n",
        ")\n",
        "```\n",
        "\n"
      ]
    },
    {
      "cell_type": "markdown",
      "metadata": {
        "id": "Yjni9jvsooAF"
      },
      "source": [
        "## Definição das funções de perda\n",
        "\n",
        "Nesta forma de implementar um PINN, precisamos de duas funções de perda diferentes. Uma será responsável pelas condições de contorno. A outra, pela observância das equações."
      ]
    },
    {
      "cell_type": "markdown",
      "metadata": {
        "id": "-4Hy_UKvy8ZR"
      },
      "source": [
        "A perda responsável pelas condições de contorno funciona de maneira bem similar a uma rede neural convencional:\n",
        "Comparamos a previsão da rede em cada ponto com o valor que temos de referência para estes pontos."
      ]
    },
    {
      "cell_type": "code",
      "execution_count": null,
      "metadata": {
        "id": "ymlg-oA8ou84"
      },
      "outputs": [],
      "source": [
        "def calc_perda_contorno(rna,X_contorno,Y_contorno):\n",
        "  Y_predito = rna(X_contorno)\n",
        "  return nn.functional.mse_loss(Y_predito, Y_contorno)"
      ]
    },
    {
      "cell_type": "markdown",
      "metadata": {
        "id": "NyIV2f2bzMnX"
      },
      "source": [
        "Já a perda responsável pela observância das equações funciona de forma bem diferente:\n",
        "\n",
        "Usaremos a funcionalidade de derivadas automáticas (autograd) para obter as derivadas parciais das saídas da rede em função das entradas. Essas derivadas parciais serão usadas para se calcular o resíduo da equação em cada um dos pontos.\n",
        "\n",
        "## Exercício 5 - Implementar equação governante\n",
        "\n",
        "A equação governate é devinida por\n",
        "\n",
        "$\\frac{\\partial^2 z}{\\partial x^2} + \\frac{\\partial^2 z}{\\partial y^2} = 0$\n",
        "\n",
        "Dica:\n",
        "Para o cálculo de derivadas de segunda ordem, basta calcular a derivada da derivada, da seguinte forma:\n",
        "\n",
        "$z_{x} = \\frac{\\partial z}{\\partial x}$\n",
        "\n",
        "$z_{xx} = \\frac{\\partial^2 z}{\\partial x^2} = \\frac{\\partial z_x}{\\partial x}$"
      ]
    },
    {
      "cell_type": "code",
      "execution_count": null,
      "metadata": {
        "id": "TW2CgDvGxwjk"
      },
      "outputs": [],
      "source": [
        "def calc_residuo(rna,X_equacao):\n",
        "  x = X_equacao[:,0].reshape(-1, 1)\n",
        "  y = X_equacao[:,1].reshape(-1, 1)\n",
        "\n",
        "  z = rna(torch.hstack((x,y)))\n",
        "\n",
        "  # PARA VOCÊ FAZER (4 LINHAS)\n",
        "  # Cálculo das derivadas necessárias para a equação governante\n",
        "  # -------------------------------\n",
        "\n",
        "  # -------------------------------\n",
        "  # ATÉ AQUI\n",
        "\n",
        "  # PARA VOCÊ FAZER (1 LINHA)\n",
        "  # Cálculo do resíduo da equação governante\n",
        "  # -------------------------------\n",
        "  residuo = \n",
        "  # -------------------------------\n",
        "  # ATÉ AQUI\n",
        "\n",
        "  return residuo"
      ]
    },
    {
      "cell_type": "code",
      "execution_count": null,
      "metadata": {
        "id": "zqV18_79pWFf"
      },
      "outputs": [],
      "source": [
        "def calc_perda_equacao(rna,X_equacao):\n",
        "\n",
        "  residuo = calc_residuo(rna,X_equacao)\n",
        "\n",
        "  return torch.mean(torch.square(residuo))"
      ]
    },
    {
      "cell_type": "code",
      "execution_count": null,
      "metadata": {
        "id": "me5MJ3pOO0vq"
      },
      "outputs": [],
      "source": [
        "def calc_perda(rna,X_contorno,Y_contorno,X_equacao,alpha=0.1):\n",
        "\n",
        "  perda_contorno = calc_perda_contorno(rna,X_contorno,Y_contorno)\n",
        "  perda_equacao = calc_perda_equacao(rna,X_equacao)\n",
        "\n",
        "  perda = (1-alpha)*perda_contorno + alpha*perda_equacao\n",
        "\n",
        "  return perda, perda_contorno, perda_equacao"
      ]
    },
    {
      "cell_type": "markdown",
      "metadata": {
        "id": "I7Q_YaggtlOf"
      },
      "source": [
        "## Exercício 6 - Definir otimizador\n",
        "\n",
        "No PyTorch, uma das entradas para o otimizador são os parâmetros da rede. É a partir daqui que o otimizador \"sabe\" quais variáveis ele pode alterar.\n",
        "\n",
        "Usaremos o otimizador Adam com uma taxa de aprendizado inicial de 0.01.\n",
        "\n",
        "O Agendador serve para alterar parâmetros do otimizador ao longo da execução. Neste exemplo, iremos diminuir a taxa de aprendizado. Ela será multiplicada por 0.95 a cada 100 épocas.\n",
        "\n",
        "O valor de alpha serve para equilibrar as perdas de contorno com as perdas de equação. Ele será definido como 0.1."
      ]
    },
    {
      "cell_type": "code",
      "execution_count": null,
      "metadata": {
        "id": "Ow3Ac157tkm_"
      },
      "outputs": [],
      "source": [
        "# PARA VOCÊ FAZER (1 LINHA)\n",
        "# Definicao do otimizador, do agendador e de alpha\n",
        "# -------------------------------\n",
        "otimizador = \n",
        "agendador = \n",
        "# -------------------------------\n",
        "# ATÉ AQUI"
      ]
    },
    {
      "cell_type": "markdown",
      "metadata": {
        "id": "XRNrMvHuwQJL"
      },
      "source": [
        "# Criar tensores e transferir para GPU\n",
        "\n",
        "No PyTorch, as variáveis devem ser armazenadas em tensores.\n",
        "\n",
        "Além disso, se formos rodar em GPU, precisamos manualmente carregar a rede a as variáveis na memória do GPU.\n",
        "\n",
        "Note a opção \"requires_grad\" que está ativa na variável X_equação, isso sinaliza que o PyTorch deverá manter a trilha de todas as operações feitas a partir desta variável para, depois, conseguir usar a regra da cadeia e calcular as derivadas.\n",
        "\n"
      ]
    },
    {
      "cell_type": "code",
      "execution_count": null,
      "metadata": {
        "id": "3Y6O8NTQyLHj"
      },
      "outputs": [],
      "source": [
        "X_equacao = torch.tensor(X_equacao,requires_grad=True,dtype=torch.float)\n",
        "X_contorno = torch.tensor(X_contorno,dtype=torch.float)\n",
        "Y_contorno = torch.tensor(Y_contorno,dtype=torch.float)\n",
        "\n",
        "device = torch.device('cuda' if torch.cuda.is_available () else 'cpu')\n",
        "X_equacao = X_equacao.to(device)\n",
        "X_contorno = X_contorno.to(device)\n",
        "Y_contorno = Y_contorno.to(device)\n",
        "rna = rna.to(device)"
      ]
    },
    {
      "cell_type": "markdown",
      "metadata": {
        "id": "4yyRIOgdubuZ"
      },
      "source": [
        "# Testar modelo\n",
        "\n",
        "Neste seção, vamos varificar se o modelo foi construido corretamente e preparar funções para ver os resulados"
      ]
    },
    {
      "cell_type": "markdown",
      "metadata": {
        "id": "-hFfbnxSiiYK"
      },
      "source": [
        "## Exercício 7 - Rodar alguns passos de otimização\n",
        "\n",
        "Primeiro, vamos rodar 10 épocas"
      ]
    },
    {
      "cell_type": "code",
      "execution_count": null,
      "metadata": {
        "id": "4oXmam7RiLGI"
      },
      "outputs": [],
      "source": [
        "# Colocar rede em modo de treinamento\n",
        "rna.train()\n",
        "\n",
        "# FAZER ITERAÇÃO\n",
        "for epoca in range(10):\n",
        "\n",
        "  # Resortear pontos\n",
        "  if ressorteio:\n",
        "    X_equacao = gerar_pontos_equacao(pontos_no_dominio,comprimento_x,comprimento_y)\n",
        "    X_equacao = torch.tensor(X_equacao,requires_grad=True,dtype=torch.float).to(device)\n",
        "\n",
        "  # PARA VOCÊ FAZER (1 LINHA)\n",
        "  # Inicializar gradientes\n",
        "  # -------------------------------\n",
        "  \n",
        "  # -------------------------------\n",
        "  # ATÉ AQUI\n",
        "\n",
        "  # PARA VOCÊ FAZER (1 LINHA)\n",
        "  # Calcular perdas\n",
        "  # -------------------------------\n",
        "  perda, perda_contorno, perda_equacao = \n",
        "  # -------------------------------\n",
        "  # ATÉ AQUI\n",
        "\n",
        "  # PARA VOCÊ FAZER (1 LINHA)\n",
        "  # Backpropagation\n",
        "  # -------------------------------\n",
        "\n",
        "  # -------------------------------\n",
        "  # ATÉ AQUI\n",
        "\n",
        "  # PARA VOCÊ FAZER (2 LINHAS)\n",
        "  # Passo do otimizador e do agendador\n",
        "  # -------------------------------\n",
        "\n",
        "  # -------------------------------\n",
        "  # ATÉ AQUI\n",
        "\n",
        "  # Mostrar resultados\n",
        "  print(f'Epoca: {epoca}, Perda: {perda.item()} (Contorno: {perda_contorno.item()}, Equacao: {perda_equacao.item()})')"
      ]
    },
    {
      "cell_type": "markdown",
      "metadata": {
        "id": "3IGpzx8BFR8I"
      },
      "source": [
        "Resultado esperado: (Note que alguma variação neste passo é possível)\n",
        "```\n",
        "Epoca: 0, Perda: 0.41967514157295227 (Contorno: 0.4659286439418793, Equacao: 0.003393700812011957)\n",
        "Epoca: 1, Perda: 0.32494547963142395 (Contorno: 0.3601118326187134, Equacao: 0.008448254317045212)\n",
        "Epoca: 2, Perda: 0.3115726113319397 (Contorno: 0.3426373302936554, Equacao: 0.03199015185236931)\n",
        "Epoca: 3, Perda: 0.32265809178352356 (Contorno: 0.3523457944393158, Equacao: 0.055468954145908356)\n",
        "Epoca: 4, Perda: 0.30739280581474304 (Contorno: 0.3336279094219208, Equacao: 0.07127691805362701)\n",
        "Epoca: 5, Perda: 0.2841506898403168 (Contorno: 0.30777376890182495, Equacao: 0.07154306024312973)\n",
        "Epoca: 6, Perda: 0.2791939973831177 (Contorno: 0.3005773425102234, Equacao: 0.0867437869310379)\n",
        "Epoca: 7, Perda: 0.29101112484931946 (Contorno: 0.3120240271091461, Equacao: 0.10189513117074966)\n",
        "Epoca: 8, Perda: 0.2968086898326874 (Contorno: 0.3161880671977997, Equacao: 0.12239435315132141)\n",
        "Epoca: 9, Perda: 0.28874772787094116 (Contorno: 0.3070990741252899, Equacao: 0.12358570098876953)\n",
        "```"
      ]
    },
    {
      "cell_type": "markdown",
      "metadata": {
        "id": "eDLSF5Pji10d"
      },
      "source": [
        "## Exibir resultados\n",
        "\n",
        "Agora, vamos preparar uma função que calcula a rna em um grid e outra que plota a solução"
      ]
    },
    {
      "cell_type": "code",
      "execution_count": null,
      "metadata": {
        "id": "EfkptqKsi_xQ"
      },
      "outputs": [],
      "source": [
        "def calcular_grid(rna, comprimento_x, comprimento_y, nx=101, ny=101):\n",
        "\n",
        "    # Definir grid\n",
        "    x = np.linspace(0.,comprimento_x,nx)\n",
        "    y = np.linspace(0.,comprimento_y,ny)\n",
        "    [y_grid, x_grid] = np.meshgrid(y,x)\n",
        "    x = torch.tensor(x_grid.flatten()[:,None],requires_grad=True,dtype=torch.float).to(device)\n",
        "    y = torch.tensor(y_grid.flatten()[:,None],requires_grad=True,dtype=torch.float).to(device)\n",
        "\n",
        "    # Avaliar modelor\n",
        "    rna.eval()\n",
        "    Y_pred = rna(torch.hstack((x,y)))\n",
        "\n",
        "    # Formatar resultados em array\n",
        "    z_pred = Y_pred.cpu().detach().numpy()[:,0].reshape(x_grid.shape)\n",
        "\n",
        "    return x_grid, y_grid, z_pred"
      ]
    },
    {
      "cell_type": "code",
      "execution_count": null,
      "metadata": {
        "id": "y9IO37c0mIvH"
      },
      "outputs": [],
      "source": [
        "# Calcular valores da função e gerar grids\n",
        "x_grid, y_grid, z_pred = calcular_grid(rna, comprimento_x, comprimento_y)\n",
        "\n",
        "# Plotar figura\n",
        "fig = go.Figure(data=[go.Surface(x=x_grid, y=y_grid, z=z_pred)])\n",
        "\n",
        "fig.update_layout(scene=dict(aspectratio=dict(x=1.5, y=1.5, z=0.5)))"
      ]
    },
    {
      "cell_type": "markdown",
      "metadata": {
        "id": "UXi2KfwbG_Sf"
      },
      "source": [
        "## Treinamento da rede\n",
        "Agora vamos treinar o modelo por 10000 épocas"
      ]
    },
    {
      "cell_type": "code",
      "execution_count": null,
      "metadata": {
        "id": "ZEGlSklwubS-"
      },
      "outputs": [],
      "source": [
        "numero_de_epocas = 10000\n",
        "perda_historico = np.zeros(numero_de_epocas)\n",
        "perda_contorno_historico = np.zeros(numero_de_epocas)\n",
        "perda_equacao_historico = np.zeros(numero_de_epocas)\n",
        "epocas = np.array(range(numero_de_epocas))\n",
        "\n",
        "# Colocar rede em modo de treinamento\n",
        "rna.train()\n",
        "\n",
        "# FAZER ITERAÇÃO\n",
        "for epoca in epocas:\n",
        "\n",
        "  # Resortear pontos\n",
        "  if ressorteio:\n",
        "    X_equacao = gerar_pontos_equacao(pontos_no_dominio,comprimento_x,comprimento_y)\n",
        "    X_equacao = torch.tensor(X_equacao,requires_grad=True,dtype=torch.float).to(device)\n",
        "\n",
        "  # Inicializar gradientes\n",
        "  otimizador.zero_grad()\n",
        "\n",
        "  # Calcular perdas\n",
        "  perda, perda_contorno, perda_equacao = calc_perda(rna,X_contorno,Y_contorno,X_equacao,alpha=alpha)\n",
        "\n",
        "  # Backpropagation\n",
        "  perda.backward()\n",
        "\n",
        "  # Passo do otimizador\n",
        "  otimizador.step()\n",
        "  agendador.step()\n",
        "\n",
        "  # Guardar logs\n",
        "  perda_historico[epoca] = perda.item()\n",
        "  perda_contorno_historico[epoca] = perda_contorno.item()\n",
        "  perda_equacao_historico[epoca] = perda_equacao.item()\n",
        "\n",
        "  if epoca%500==0:\n",
        "    print(f'Epoca: {epoca}, Perda: {perda.item()} (Contorno: {perda_contorno.item()}, Equacao: {perda_equacao.item()})')\n",
        "\n"
      ]
    },
    {
      "cell_type": "markdown",
      "metadata": {
        "id": "MdeqFz_sGzMC"
      },
      "source": [
        "Saída esperada:\n",
        "```\n",
        "Epoca: 0, Perda: 0.2796975076198578 (Contorno: 0.29735538363456726, Equacao: 0.1207764521241188)\n",
        "Epoca: 500, Perda: 0.019234932959079742 (Contorno: 0.01609576679766178, Equacao: 0.04748743027448654)\n",
        "Epoca: 1000, Perda: 0.008779237978160381 (Contorno: 0.007192874792963266, Equacao: 0.023056507110595703)\n",
        "Epoca: 1500, Perda: 0.004627911373972893 (Contorno: 0.004134506918489933, Equacao: 0.00906855147331953)\n",
        "Epoca: 2000, Perda: 0.003794528543949127 (Contorno: 0.002829557517543435, Equacao: 0.012479268014431)\n",
        "Epoca: 2500, Perda: 0.00246912962757051 (Contorno: 0.0022384794428944588, Equacao: 0.004544983152300119)\n",
        "Epoca: 3000, Perda: 0.0022056633606553078 (Contorno: 0.0019008198287338018, Equacao: 0.004949256312102079)\n",
        "Epoca: 3500, Perda: 0.0018194746226072311 (Contorno: 0.001648333971388638, Equacao: 0.00335973990149796)\n",
        "Epoca: 4000, Perda: 0.0023012394085526466 (Contorno: 0.0015506889903917909, Equacao: 0.009056192822754383)\n",
        "Epoca: 4500, Perda: 0.0015365986619144678 (Contorno: 0.0013659244868904352, Equacao: 0.0030726653058081865)\n",
        "Epoca: 5000, Perda: 0.0013851739931851625 (Contorno: 0.00124174274969846, Equacao: 0.0026760550681501627)\n",
        "Epoca: 5500, Perda: 0.0012605079682543874 (Contorno: 0.0011513156350702047, Equacao: 0.002243238966912031)\n",
        "Epoca: 6000, Perda: 0.001264510559849441 (Contorno: 0.001088821212761104, Equacao: 0.00284571573138237)\n",
        "Epoca: 6500, Perda: 0.001118625863455236 (Contorno: 0.0010235330555588007, Equacao: 0.0019744618330150843)\n",
        "Epoca: 7000, Perda: 0.001104312133975327 (Contorno: 0.0009742183610796928, Equacao: 0.0022751560900360346)\n",
        "Epoca: 7500, Perda: 0.0011349612614139915 (Contorno: 0.0009340505348518491, Equacao: 0.0029431579168885946)\n",
        "Epoca: 8000, Perda: 0.00105355738196522 (Contorno: 0.0008986592874862254, Equacao: 0.002447640523314476)\n",
        "Epoca: 8500, Perda: 0.0009644646197557449 (Contorno: 0.0008754738955758512, Equacao: 0.0017653811955824494)\n",
        "Epoca: 9000, Perda: 0.0009447543416172266 (Contorno: 0.0008521503186784685, Equacao: 0.0017781907226890326)\n",
        "Epoca: 9500, Perda: 0.0009573057177476585 (Contorno: 0.000830349454190582, Equacao: 0.002099912380799651)\n",
        "```"
      ]
    },
    {
      "cell_type": "code",
      "execution_count": null,
      "metadata": {
        "id": "XyhmHBxbmY51"
      },
      "outputs": [],
      "source": [
        "# Calcular valores da função e gerar grids\n",
        "x_grid, y_grid, z_pred = calcular_grid(rna, comprimento_x, comprimento_y)\n",
        "\n",
        "# Plotar figura\n",
        "fig = go.Figure(data=[go.Surface(x=x_grid, y=y_grid, z=z_pred)])\n",
        "\n",
        "fig.update_layout(scene=dict(aspectratio=dict(x=1.5, y=1.5, z=0.5)))"
      ]
    },
    {
      "cell_type": "code",
      "execution_count": null,
      "metadata": {
        "id": "S9UFFeypZzT-"
      },
      "outputs": [],
      "source": [
        "# Plotar histórico\n",
        "fig = go.FigureWidget()\n",
        "fig.add_trace(go.Scatter(x=epocas, y=perda_historico, name='Total', line=dict(color='black', width=4)))\n",
        "fig.add_trace(go.Scatter(x=epocas, y=perda_contorno_historico, name='Contorno', line=dict(color='blue', width=2)))\n",
        "fig.add_trace(go.Scatter(x=epocas, y=perda_equacao_historico, name='Equacao', line=dict(color='red', width=2)))\n",
        "fig.update_yaxes(type=\"log\")\n",
        "fig.show(renderer=\"colab\")"
      ]
    },
    {
      "cell_type": "markdown",
      "metadata": {
        "id": "Ftffiaq8ctx5"
      },
      "source": [
        "# Sugestão:\n",
        "Tente alterar as condições de contorno para observar se o PINN consegue encontrar as soluções.\n",
        "\n",
        "Tente introduzir um termo forçante na equação, algo como:\n",
        "\n",
        "$\\frac{\\partial^2 z}{\\partial x^2} + \\frac{\\partial^2 z}{\\partial y^2} = f(x,y)$\n",
        "\n",
        "Veja o efeito de usar RNAs mais simples ou mais complexas."
      ]
    }
  ],
  "metadata": {
    "accelerator": "GPU",
    "colab": {
      "collapsed_sections": [],
      "provenance": [],
      "toc_visible": true
    },
    "gpuClass": "standard",
    "kernelspec": {
      "display_name": "Python 3.10.2 64-bit",
      "language": "python",
      "name": "python3"
    },
    "language_info": {
      "name": "python",
      "version": "3.10.2"
    },
    "vscode": {
      "interpreter": {
        "hash": "369f2c481f4da34e4445cda3fffd2e751bd1c4d706f27375911949ba6bb62e1c"
      }
    }
  },
  "nbformat": 4,
  "nbformat_minor": 0
}
